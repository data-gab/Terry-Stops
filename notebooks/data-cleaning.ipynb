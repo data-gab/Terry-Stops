{
 "cells": [
  {
   "cell_type": "markdown",
   "metadata": {},
   "source": [
    "# General cleaning of Terry_Stops.csv"
   ]
  },
  {
   "cell_type": "code",
   "execution_count": 1,
   "metadata": {},
   "outputs": [],
   "source": [
    "# import necessary libraries\n",
    "import warnings\n",
    "warnings.filterwarnings('ignore')\n",
    "\n",
    "import pandas as pd\n",
    "import numpy as np\n",
    "\n",
    "import scipy.stats as scs\n",
    "import statsmodels.api as sm\n",
    "from statsmodels.formula.api import ols\n",
    "import statsmodels.stats.api as sms\n",
    "\n",
    "from sklearn.linear_model import LinearRegression, Ridge, Lasso\n",
    "from sklearn.model_selection import train_test_split, cross_val_score\n",
    "from sklearn.model_selection import KFold\n",
    "from sklearn.metrics import mean_squared_error, make_scorer, r2_score\n",
    "from sklearn.feature_selection import RFE\n",
    "import seaborn as sns\n",
    "sns.set_style('darkgrid')\n",
    "\n",
    "import matplotlib.pyplot as plt\n",
    "from matplotlib import style\n",
    "style.use('ggplot')\n",
    "%matplotlib inline"
   ]
  },
  {
   "cell_type": "markdown",
   "metadata": {},
   "source": [
    "### Information about the dataset\n",
    "\"In Terry v. Ohio (Links to an external site.), a landmark Supreme Court case in 1967-8, the court found that a police officer was not in violation of the \"unreasonable search and seizure\" clause of the Fourth Amendment, even though he stopped and frisked a couple of suspects only because their behavior was suspicious. Thus was born the notion of \"reasonable suspicion\", according to which an agent of the police may e.g. temporarily detain a person, even in the absence of clearer evidence that would be required for full-blown arrests etc. Terry Stops are stops made of suspicious drivers.\"\n",
    "\n",
    "Build a classifier to predict whether an arrest was made after a Terry Stop, given information about the presence of weapons, the time of day of the call, etc. Note that this is a binary classification problem."
   ]
  },
  {
   "cell_type": "markdown",
   "metadata": {},
   "source": [
    "***\n",
    "## Import dataframe from csv file using pd.read_csv function"
   ]
  },
  {
   "cell_type": "code",
   "execution_count": 2,
   "metadata": {},
   "outputs": [],
   "source": [
    "#importing cvs file and saving it under a variable\n",
    "terry_df = pd.read_csv('../data/Terry_Stops.csv')"
   ]
  },
  {
   "cell_type": "markdown",
   "metadata": {},
   "source": [
    "***\n",
    "## Review kc_house_data"
   ]
  },
  {
   "cell_type": "code",
   "execution_count": 3,
   "metadata": {},
   "outputs": [
    {
     "data": {
      "text/html": [
       "<div>\n",
       "<style scoped>\n",
       "    .dataframe tbody tr th:only-of-type {\n",
       "        vertical-align: middle;\n",
       "    }\n",
       "\n",
       "    .dataframe tbody tr th {\n",
       "        vertical-align: top;\n",
       "    }\n",
       "\n",
       "    .dataframe thead th {\n",
       "        text-align: right;\n",
       "    }\n",
       "</style>\n",
       "<table border=\"1\" class=\"dataframe\">\n",
       "  <thead>\n",
       "    <tr style=\"text-align: right;\">\n",
       "      <th></th>\n",
       "      <th>Subject Age Group</th>\n",
       "      <th>Subject ID</th>\n",
       "      <th>GO / SC Num</th>\n",
       "      <th>Terry Stop ID</th>\n",
       "      <th>Stop Resolution</th>\n",
       "      <th>Weapon Type</th>\n",
       "      <th>Officer ID</th>\n",
       "      <th>Officer YOB</th>\n",
       "      <th>Officer Gender</th>\n",
       "      <th>Officer Race</th>\n",
       "      <th>...</th>\n",
       "      <th>Reported Time</th>\n",
       "      <th>Initial Call Type</th>\n",
       "      <th>Final Call Type</th>\n",
       "      <th>Call Type</th>\n",
       "      <th>Officer Squad</th>\n",
       "      <th>Arrest Flag</th>\n",
       "      <th>Frisk Flag</th>\n",
       "      <th>Precinct</th>\n",
       "      <th>Sector</th>\n",
       "      <th>Beat</th>\n",
       "    </tr>\n",
       "  </thead>\n",
       "  <tbody>\n",
       "    <tr>\n",
       "      <th>0</th>\n",
       "      <td>-</td>\n",
       "      <td>-1</td>\n",
       "      <td>20140000120677</td>\n",
       "      <td>92317</td>\n",
       "      <td>Arrest</td>\n",
       "      <td>None</td>\n",
       "      <td>7500</td>\n",
       "      <td>1984</td>\n",
       "      <td>M</td>\n",
       "      <td>Black or African American</td>\n",
       "      <td>...</td>\n",
       "      <td>11:32:00</td>\n",
       "      <td>-</td>\n",
       "      <td>-</td>\n",
       "      <td>-</td>\n",
       "      <td>SOUTH PCT 1ST W - ROBERT</td>\n",
       "      <td>N</td>\n",
       "      <td>N</td>\n",
       "      <td>South</td>\n",
       "      <td>O</td>\n",
       "      <td>O2</td>\n",
       "    </tr>\n",
       "    <tr>\n",
       "      <th>1</th>\n",
       "      <td>-</td>\n",
       "      <td>-1</td>\n",
       "      <td>20150000001463</td>\n",
       "      <td>28806</td>\n",
       "      <td>Field Contact</td>\n",
       "      <td>None</td>\n",
       "      <td>5670</td>\n",
       "      <td>1965</td>\n",
       "      <td>M</td>\n",
       "      <td>White</td>\n",
       "      <td>...</td>\n",
       "      <td>07:59:00</td>\n",
       "      <td>-</td>\n",
       "      <td>-</td>\n",
       "      <td>-</td>\n",
       "      <td>NaN</td>\n",
       "      <td>N</td>\n",
       "      <td>N</td>\n",
       "      <td>-</td>\n",
       "      <td>-</td>\n",
       "      <td>-</td>\n",
       "    </tr>\n",
       "    <tr>\n",
       "      <th>2</th>\n",
       "      <td>-</td>\n",
       "      <td>-1</td>\n",
       "      <td>20150000001516</td>\n",
       "      <td>29599</td>\n",
       "      <td>Field Contact</td>\n",
       "      <td>None</td>\n",
       "      <td>4844</td>\n",
       "      <td>1961</td>\n",
       "      <td>M</td>\n",
       "      <td>White</td>\n",
       "      <td>...</td>\n",
       "      <td>19:12:00</td>\n",
       "      <td>-</td>\n",
       "      <td>-</td>\n",
       "      <td>-</td>\n",
       "      <td>NaN</td>\n",
       "      <td>N</td>\n",
       "      <td>-</td>\n",
       "      <td>-</td>\n",
       "      <td>-</td>\n",
       "      <td>-</td>\n",
       "    </tr>\n",
       "    <tr>\n",
       "      <th>3</th>\n",
       "      <td>-</td>\n",
       "      <td>-1</td>\n",
       "      <td>20150000001670</td>\n",
       "      <td>32260</td>\n",
       "      <td>Field Contact</td>\n",
       "      <td>None</td>\n",
       "      <td>7539</td>\n",
       "      <td>1963</td>\n",
       "      <td>M</td>\n",
       "      <td>White</td>\n",
       "      <td>...</td>\n",
       "      <td>04:55:00</td>\n",
       "      <td>-</td>\n",
       "      <td>-</td>\n",
       "      <td>-</td>\n",
       "      <td>NaN</td>\n",
       "      <td>N</td>\n",
       "      <td>N</td>\n",
       "      <td>-</td>\n",
       "      <td>-</td>\n",
       "      <td>-</td>\n",
       "    </tr>\n",
       "    <tr>\n",
       "      <th>4</th>\n",
       "      <td>-</td>\n",
       "      <td>-1</td>\n",
       "      <td>20150000001739</td>\n",
       "      <td>33155</td>\n",
       "      <td>Field Contact</td>\n",
       "      <td>None</td>\n",
       "      <td>6973</td>\n",
       "      <td>1977</td>\n",
       "      <td>M</td>\n",
       "      <td>White</td>\n",
       "      <td>...</td>\n",
       "      <td>00:41:00</td>\n",
       "      <td>-</td>\n",
       "      <td>-</td>\n",
       "      <td>-</td>\n",
       "      <td>NaN</td>\n",
       "      <td>N</td>\n",
       "      <td>N</td>\n",
       "      <td>-</td>\n",
       "      <td>-</td>\n",
       "      <td>-</td>\n",
       "    </tr>\n",
       "  </tbody>\n",
       "</table>\n",
       "<p>5 rows × 23 columns</p>\n",
       "</div>"
      ],
      "text/plain": [
       "  Subject Age Group  Subject ID     GO / SC Num  Terry Stop ID  \\\n",
       "0                 -          -1  20140000120677          92317   \n",
       "1                 -          -1  20150000001463          28806   \n",
       "2                 -          -1  20150000001516          29599   \n",
       "3                 -          -1  20150000001670          32260   \n",
       "4                 -          -1  20150000001739          33155   \n",
       "\n",
       "  Stop Resolution Weapon Type Officer ID  Officer YOB Officer Gender  \\\n",
       "0          Arrest        None     7500           1984              M   \n",
       "1   Field Contact        None     5670           1965              M   \n",
       "2   Field Contact        None     4844           1961              M   \n",
       "3   Field Contact        None     7539           1963              M   \n",
       "4   Field Contact        None     6973           1977              M   \n",
       "\n",
       "                Officer Race  ... Reported Time Initial Call Type  \\\n",
       "0  Black or African American  ...      11:32:00                 -   \n",
       "1                      White  ...      07:59:00                 -   \n",
       "2                      White  ...      19:12:00                 -   \n",
       "3                      White  ...      04:55:00                 -   \n",
       "4                      White  ...      00:41:00                 -   \n",
       "\n",
       "  Final Call Type Call Type             Officer Squad Arrest Flag Frisk Flag  \\\n",
       "0               -         -  SOUTH PCT 1ST W - ROBERT           N          N   \n",
       "1               -         -                       NaN           N          N   \n",
       "2               -         -                       NaN           N          -   \n",
       "3               -         -                       NaN           N          N   \n",
       "4               -         -                       NaN           N          N   \n",
       "\n",
       "  Precinct  Sector    Beat  \n",
       "0    South  O       O2      \n",
       "1        -       -       -  \n",
       "2        -       -       -  \n",
       "3        -       -       -  \n",
       "4        -       -       -  \n",
       "\n",
       "[5 rows x 23 columns]"
      ]
     },
     "execution_count": 3,
     "metadata": {},
     "output_type": "execute_result"
    }
   ],
   "source": [
    "terry_df.head()"
   ]
  },
  {
   "cell_type": "code",
   "execution_count": 4,
   "metadata": {},
   "outputs": [
    {
     "name": "stdout",
     "output_type": "stream",
     "text": [
      "<class 'pandas.core.frame.DataFrame'>\n",
      "RangeIndex: 44869 entries, 0 to 44868\n",
      "Data columns (total 23 columns):\n",
      " #   Column                    Non-Null Count  Dtype \n",
      "---  ------                    --------------  ----- \n",
      " 0   Subject Age Group         44869 non-null  object\n",
      " 1   Subject ID                44869 non-null  int64 \n",
      " 2   GO / SC Num               44869 non-null  int64 \n",
      " 3   Terry Stop ID             44869 non-null  int64 \n",
      " 4   Stop Resolution           44869 non-null  object\n",
      " 5   Weapon Type               44869 non-null  object\n",
      " 6   Officer ID                44869 non-null  object\n",
      " 7   Officer YOB               44869 non-null  int64 \n",
      " 8   Officer Gender            44869 non-null  object\n",
      " 9   Officer Race              44869 non-null  object\n",
      " 10  Subject Perceived Race    44869 non-null  object\n",
      " 11  Subject Perceived Gender  44869 non-null  object\n",
      " 12  Reported Date             44869 non-null  object\n",
      " 13  Reported Time             44869 non-null  object\n",
      " 14  Initial Call Type         44869 non-null  object\n",
      " 15  Final Call Type           44869 non-null  object\n",
      " 16  Call Type                 44869 non-null  object\n",
      " 17  Officer Squad             44288 non-null  object\n",
      " 18  Arrest Flag               44869 non-null  object\n",
      " 19  Frisk Flag                44869 non-null  object\n",
      " 20  Precinct                  44869 non-null  object\n",
      " 21  Sector                    44869 non-null  object\n",
      " 22  Beat                      44869 non-null  object\n",
      "dtypes: int64(4), object(19)\n",
      "memory usage: 7.9+ MB\n"
     ]
    }
   ],
   "source": [
    "terry_df.info()"
   ]
  },
  {
   "cell_type": "code",
   "execution_count": 5,
   "metadata": {},
   "outputs": [
    {
     "data": {
      "text/plain": [
       "(44869, 23)"
      ]
     },
     "execution_count": 5,
     "metadata": {},
     "output_type": "execute_result"
    }
   ],
   "source": [
    "terry_df.shape"
   ]
  },
  {
   "cell_type": "code",
   "execution_count": 6,
   "metadata": {},
   "outputs": [
    {
     "data": {
      "text/plain": [
       "Index(['Subject Age Group', 'Subject ID', 'GO / SC Num', 'Terry Stop ID',\n",
       "       'Stop Resolution', 'Weapon Type', 'Officer ID', 'Officer YOB',\n",
       "       'Officer Gender', 'Officer Race', 'Subject Perceived Race',\n",
       "       'Subject Perceived Gender', 'Reported Date', 'Reported Time',\n",
       "       'Initial Call Type', 'Final Call Type', 'Call Type', 'Officer Squad',\n",
       "       'Arrest Flag', 'Frisk Flag', 'Precinct', 'Sector', 'Beat'],\n",
       "      dtype='object')"
      ]
     },
     "execution_count": 6,
     "metadata": {},
     "output_type": "execute_result"
    }
   ],
   "source": [
    "terry_df.columns"
   ]
  },
  {
   "cell_type": "markdown",
   "metadata": {},
   "source": [
    "***\n",
    "##  Creating subset dataframe with columns to be used"
   ]
  },
  {
   "cell_type": "code",
   "execution_count": 7,
   "metadata": {},
   "outputs": [],
   "source": [
    "terry_df = terry_df[['Subject Age Group', 'Subject ID', 'Stop Resolution',  'Weapon Type', 'Officer ID', 'Officer YOB', 'Officer Gender', 'Officer Race', 'Subject Perceived Race', 'Subject Perceived Gender', 'Reported Date', 'Initial Call Type', 'Call Type', 'Officer Squad', 'Arrest Flag', 'Frisk Flag', 'Precinct', 'Sector', 'Beat' ]]"
   ]
  },
  {
   "cell_type": "code",
   "execution_count": 8,
   "metadata": {},
   "outputs": [],
   "source": [
    "# renaming columns\n",
    "terry_df.columns = ['subject_age', 'subject_id', 'stop_resolution',\n",
    "         'weapon_type', 'officer_id', 'officer_age', \n",
    "         'officer_gender', 'officer_race', 'subject_race', \n",
    "         'subject_gender', 'date', 'initial_call_type', 'call_type',\n",
    "         'officer_squad', 'arrest', 'frisk',\n",
    "         'precinct', 'sector', 'beat' ]"
   ]
  },
  {
   "cell_type": "code",
   "execution_count": 9,
   "metadata": {},
   "outputs": [
    {
     "name": "stdout",
     "output_type": "stream",
     "text": [
      "<class 'pandas.core.frame.DataFrame'>\n",
      "RangeIndex: 44869 entries, 0 to 44868\n",
      "Data columns (total 19 columns):\n",
      " #   Column             Non-Null Count  Dtype \n",
      "---  ------             --------------  ----- \n",
      " 0   subject_age        44869 non-null  object\n",
      " 1   subject_id         44869 non-null  int64 \n",
      " 2   stop_resolution    44869 non-null  object\n",
      " 3   weapon_type        44869 non-null  object\n",
      " 4   officer_id         44869 non-null  object\n",
      " 5   officer_age        44869 non-null  int64 \n",
      " 6   officer_gender     44869 non-null  object\n",
      " 7   officer_race       44869 non-null  object\n",
      " 8   subject_race       44869 non-null  object\n",
      " 9   subject_gender     44869 non-null  object\n",
      " 10  date               44869 non-null  object\n",
      " 11  initial_call_type  44869 non-null  object\n",
      " 12  call_type          44869 non-null  object\n",
      " 13  officer_squad      44288 non-null  object\n",
      " 14  arrest             44869 non-null  object\n",
      " 15  frisk              44869 non-null  object\n",
      " 16  precinct           44869 non-null  object\n",
      " 17  sector             44869 non-null  object\n",
      " 18  beat               44869 non-null  object\n",
      "dtypes: int64(2), object(17)\n",
      "memory usage: 6.5+ MB\n"
     ]
    }
   ],
   "source": [
    "terry_df.info()"
   ]
  },
  {
   "cell_type": "markdown",
   "metadata": {},
   "source": [
    "***\n",
    "## Converting column datatypes"
   ]
  },
  {
   "cell_type": "code",
   "execution_count": 10,
   "metadata": {},
   "outputs": [],
   "source": [
    "# changing columns into categories and datetime\n",
    "terry_df = terry_df.astype({'subject_age': 'category', 'officer_gender':'category', \n",
    "                'officer_race': 'category', 'subject_race':'category', \n",
    "                'subject_gender':'category', 'date':'datetime64','arrest':'category', \n",
    "                'frisk':'category','precinct':'category', 'sector':'category',\n",
    "                'beat': 'category'})"
   ]
  },
  {
   "cell_type": "code",
   "execution_count": 11,
   "metadata": {},
   "outputs": [
    {
     "name": "stdout",
     "output_type": "stream",
     "text": [
      "<class 'pandas.core.frame.DataFrame'>\n",
      "RangeIndex: 44869 entries, 0 to 44868\n",
      "Data columns (total 19 columns):\n",
      " #   Column             Non-Null Count  Dtype         \n",
      "---  ------             --------------  -----         \n",
      " 0   subject_age        44869 non-null  category      \n",
      " 1   subject_id         44869 non-null  int64         \n",
      " 2   stop_resolution    44869 non-null  object        \n",
      " 3   weapon_type        44869 non-null  object        \n",
      " 4   officer_id         44869 non-null  object        \n",
      " 5   officer_age        44869 non-null  int64         \n",
      " 6   officer_gender     44869 non-null  category      \n",
      " 7   officer_race       44869 non-null  category      \n",
      " 8   subject_race       44869 non-null  category      \n",
      " 9   subject_gender     44869 non-null  category      \n",
      " 10  date               44869 non-null  datetime64[ns]\n",
      " 11  initial_call_type  44869 non-null  object        \n",
      " 12  call_type          44869 non-null  object        \n",
      " 13  officer_squad      44288 non-null  object        \n",
      " 14  arrest             44869 non-null  category      \n",
      " 15  frisk              44869 non-null  category      \n",
      " 16  precinct           44869 non-null  category      \n",
      " 17  sector             44869 non-null  category      \n",
      " 18  beat               44869 non-null  category      \n",
      "dtypes: category(10), datetime64[ns](1), int64(2), object(6)\n",
      "memory usage: 3.5+ MB\n"
     ]
    }
   ],
   "source": [
    "terry_df.info()"
   ]
  },
  {
   "cell_type": "markdown",
   "metadata": {},
   "source": [
    "***\n",
    "## Exploring column value counts and nan values"
   ]
  },
  {
   "cell_type": "code",
   "execution_count": 12,
   "metadata": {},
   "outputs": [],
   "source": [
    "# the dataset seems to have '-' as place holders\n",
    "# replacing '-' into Nan\n",
    "terry_df.replace('-', np.nan, inplace=True)"
   ]
  },
  {
   "cell_type": "code",
   "execution_count": 13,
   "metadata": {},
   "outputs": [
    {
     "data": {
      "text/plain": [
       "subject_age           1420\n",
       "subject_id               0\n",
       "stop_resolution          0\n",
       "weapon_type           9700\n",
       "officer_id              24\n",
       "officer_age              0\n",
       "officer_gender           0\n",
       "officer_race             0\n",
       "subject_race          1764\n",
       "subject_gender         266\n",
       "date                     0\n",
       "initial_call_type    13039\n",
       "call_type            13039\n",
       "officer_squad          581\n",
       "arrest                   0\n",
       "frisk                  478\n",
       "precinct              9733\n",
       "sector                9931\n",
       "beat                  9878\n",
       "dtype: int64"
      ]
     },
     "execution_count": 13,
     "metadata": {},
     "output_type": "execute_result"
    }
   ],
   "source": [
    "terry_df.isna().sum()"
   ]
  },
  {
   "cell_type": "code",
   "execution_count": 14,
   "metadata": {},
   "outputs": [
    {
     "data": {
      "text/plain": [
       "26 - 35         14917\n",
       "36 - 45          9464\n",
       "18 - 25          9084\n",
       "46 - 55          5771\n",
       "56 and Above     2278\n",
       "1 - 17           1935\n",
       "NaN              1420\n",
       "Name: subject_age, dtype: int64"
      ]
     },
     "execution_count": 14,
     "metadata": {},
     "output_type": "execute_result"
    }
   ],
   "source": [
    "terry_df.subject_age.value_counts(dropna=False)"
   ]
  },
  {
   "cell_type": "code",
   "execution_count": 15,
   "metadata": {},
   "outputs": [
    {
     "data": {
      "text/plain": [
       "Field Contact               17987\n",
       "Offense Report              15126\n",
       "Arrest                      10853\n",
       "Referred for Prosecution      728\n",
       "Citation / Infraction         175\n",
       "Name: stop_resolution, dtype: int64"
      ]
     },
     "execution_count": 15,
     "metadata": {},
     "output_type": "execute_result"
    }
   ],
   "source": [
    "terry_df.stop_resolution.value_counts(dropna=False)"
   ]
  },
  {
   "cell_type": "code",
   "execution_count": 16,
   "metadata": {},
   "outputs": [
    {
     "data": {
      "text/plain": [
       "None                                 32565\n",
       "NaN                                   9700\n",
       "Lethal Cutting Instrument             1482\n",
       "Knife/Cutting/Stabbing Instrument      498\n",
       "Handgun                                281\n",
       "Firearm Other                          100\n",
       "Blunt Object/Striking Implement         66\n",
       "Club, Blackjack, Brass Knuckles         49\n",
       "Firearm                                 34\n",
       "Mace/Pepper Spray                       20\n",
       "Other Firearm                           18\n",
       "Firearm (unk type)                      15\n",
       "Club                                     9\n",
       "None/Not Applicable                      7\n",
       "Rifle                                    7\n",
       "Taser/Stun Gun                           7\n",
       "Fire/Incendiary Device                   4\n",
       "Shotgun                                  3\n",
       "Automatic Handgun                        2\n",
       "Brass Knuckles                           1\n",
       "Blackjack                                1\n",
       "Name: weapon_type, dtype: int64"
      ]
     },
     "execution_count": 16,
     "metadata": {},
     "output_type": "execute_result"
    }
   ],
   "source": [
    "terry_df.weapon_type.value_counts(dropna=False)"
   ]
  },
  {
   "cell_type": "code",
   "execution_count": 17,
   "metadata": {},
   "outputs": [],
   "source": [
    "# subtract officier YOB from report date column to get officers age\n",
    "terry_df['officer_age'] = (terry_df.date.dt.year -  terry_df.officer_age)"
   ]
  },
  {
   "cell_type": "code",
   "execution_count": 18,
   "metadata": {},
   "outputs": [
    {
     "data": {
      "text/html": [
       "<div>\n",
       "<style scoped>\n",
       "    .dataframe tbody tr th:only-of-type {\n",
       "        vertical-align: middle;\n",
       "    }\n",
       "\n",
       "    .dataframe tbody tr th {\n",
       "        vertical-align: top;\n",
       "    }\n",
       "\n",
       "    .dataframe thead th {\n",
       "        text-align: right;\n",
       "    }\n",
       "</style>\n",
       "<table border=\"1\" class=\"dataframe\">\n",
       "  <thead>\n",
       "    <tr style=\"text-align: right;\">\n",
       "      <th></th>\n",
       "      <th>subject_age</th>\n",
       "      <th>subject_id</th>\n",
       "      <th>stop_resolution</th>\n",
       "      <th>weapon_type</th>\n",
       "      <th>officer_id</th>\n",
       "      <th>officer_age</th>\n",
       "      <th>officer_gender</th>\n",
       "      <th>officer_race</th>\n",
       "      <th>subject_race</th>\n",
       "      <th>subject_gender</th>\n",
       "      <th>date</th>\n",
       "      <th>initial_call_type</th>\n",
       "      <th>call_type</th>\n",
       "      <th>officer_squad</th>\n",
       "      <th>arrest</th>\n",
       "      <th>frisk</th>\n",
       "      <th>precinct</th>\n",
       "      <th>sector</th>\n",
       "      <th>beat</th>\n",
       "    </tr>\n",
       "  </thead>\n",
       "  <tbody>\n",
       "    <tr>\n",
       "      <th>1068</th>\n",
       "      <td>NaN</td>\n",
       "      <td>-1</td>\n",
       "      <td>Field Contact</td>\n",
       "      <td>NaN</td>\n",
       "      <td>NaN</td>\n",
       "      <td>119</td>\n",
       "      <td>N</td>\n",
       "      <td>Unknown</td>\n",
       "      <td>NaN</td>\n",
       "      <td>NaN</td>\n",
       "      <td>2019-07-27</td>\n",
       "      <td>NaN</td>\n",
       "      <td>NaN</td>\n",
       "      <td>NaN</td>\n",
       "      <td>N</td>\n",
       "      <td>Y</td>\n",
       "      <td>West</td>\n",
       "      <td>K</td>\n",
       "      <td>K3</td>\n",
       "    </tr>\n",
       "    <tr>\n",
       "      <th>1069</th>\n",
       "      <td>NaN</td>\n",
       "      <td>-1</td>\n",
       "      <td>Field Contact</td>\n",
       "      <td>NaN</td>\n",
       "      <td>NaN</td>\n",
       "      <td>119</td>\n",
       "      <td>N</td>\n",
       "      <td>Unknown</td>\n",
       "      <td>NaN</td>\n",
       "      <td>NaN</td>\n",
       "      <td>2019-07-27</td>\n",
       "      <td>NaN</td>\n",
       "      <td>NaN</td>\n",
       "      <td>NaN</td>\n",
       "      <td>N</td>\n",
       "      <td>Y</td>\n",
       "      <td>West</td>\n",
       "      <td>K</td>\n",
       "      <td>K3</td>\n",
       "    </tr>\n",
       "    <tr>\n",
       "      <th>1070</th>\n",
       "      <td>NaN</td>\n",
       "      <td>-1</td>\n",
       "      <td>Field Contact</td>\n",
       "      <td>NaN</td>\n",
       "      <td>NaN</td>\n",
       "      <td>119</td>\n",
       "      <td>N</td>\n",
       "      <td>Unknown</td>\n",
       "      <td>NaN</td>\n",
       "      <td>NaN</td>\n",
       "      <td>2019-07-27</td>\n",
       "      <td>NaN</td>\n",
       "      <td>NaN</td>\n",
       "      <td>NaN</td>\n",
       "      <td>N</td>\n",
       "      <td>Y</td>\n",
       "      <td>West</td>\n",
       "      <td>K</td>\n",
       "      <td>K3</td>\n",
       "    </tr>\n",
       "    <tr>\n",
       "      <th>1091</th>\n",
       "      <td>NaN</td>\n",
       "      <td>-1</td>\n",
       "      <td>Field Contact</td>\n",
       "      <td>NaN</td>\n",
       "      <td>NaN</td>\n",
       "      <td>119</td>\n",
       "      <td>N</td>\n",
       "      <td>Unknown</td>\n",
       "      <td>White</td>\n",
       "      <td>Male</td>\n",
       "      <td>2019-09-10</td>\n",
       "      <td>NaN</td>\n",
       "      <td>NaN</td>\n",
       "      <td>NaN</td>\n",
       "      <td>N</td>\n",
       "      <td>N</td>\n",
       "      <td>East</td>\n",
       "      <td>E</td>\n",
       "      <td>E3</td>\n",
       "    </tr>\n",
       "    <tr>\n",
       "      <th>1201</th>\n",
       "      <td>NaN</td>\n",
       "      <td>-1</td>\n",
       "      <td>Field Contact</td>\n",
       "      <td>NaN</td>\n",
       "      <td>8742</td>\n",
       "      <td>120</td>\n",
       "      <td>M</td>\n",
       "      <td>Unknown</td>\n",
       "      <td>NaN</td>\n",
       "      <td>Male</td>\n",
       "      <td>2020-10-17</td>\n",
       "      <td>DOWN - CHECK FOR PERSON DOWN</td>\n",
       "      <td>911</td>\n",
       "      <td>TRAINING - FIELD TRAINING SQUAD</td>\n",
       "      <td>N</td>\n",
       "      <td>N</td>\n",
       "      <td>West</td>\n",
       "      <td>K</td>\n",
       "      <td>K3</td>\n",
       "    </tr>\n",
       "  </tbody>\n",
       "</table>\n",
       "</div>"
      ],
      "text/plain": [
       "     subject_age  subject_id stop_resolution weapon_type officer_id  \\\n",
       "1068         NaN          -1   Field Contact         NaN        NaN   \n",
       "1069         NaN          -1   Field Contact         NaN        NaN   \n",
       "1070         NaN          -1   Field Contact         NaN        NaN   \n",
       "1091         NaN          -1   Field Contact         NaN        NaN   \n",
       "1201         NaN          -1   Field Contact         NaN     8742     \n",
       "\n",
       "      officer_age officer_gender officer_race subject_race subject_gender  \\\n",
       "1068          119              N      Unknown          NaN            NaN   \n",
       "1069          119              N      Unknown          NaN            NaN   \n",
       "1070          119              N      Unknown          NaN            NaN   \n",
       "1091          119              N      Unknown        White           Male   \n",
       "1201          120              M      Unknown          NaN           Male   \n",
       "\n",
       "           date             initial_call_type call_type  \\\n",
       "1068 2019-07-27                           NaN       NaN   \n",
       "1069 2019-07-27                           NaN       NaN   \n",
       "1070 2019-07-27                           NaN       NaN   \n",
       "1091 2019-09-10                           NaN       NaN   \n",
       "1201 2020-10-17  DOWN - CHECK FOR PERSON DOWN       911   \n",
       "\n",
       "                        officer_squad arrest frisk precinct sector beat  \n",
       "1068                              NaN      N     Y     West      K   K3  \n",
       "1069                              NaN      N     Y     West      K   K3  \n",
       "1070                              NaN      N     Y     West      K   K3  \n",
       "1091                              NaN      N     N     East      E   E3  \n",
       "1201  TRAINING - FIELD TRAINING SQUAD      N     N     West      K   K3  "
      ]
     },
     "execution_count": 18,
     "metadata": {},
     "output_type": "execute_result"
    }
   ],
   "source": [
    "terry_df[terry_df.officer_age >70].head()"
   ]
  },
  {
   "cell_type": "code",
   "execution_count": 21,
   "metadata": {},
   "outputs": [],
   "source": [
    "# dropping rows that show officers over the 100 y.o.\n",
    "# these rows ahve a lot of nan or unknown values\n",
    "terry_df = terry_df.drop(terry_df[terry_df.officer_age >70].index)"
   ]
  },
  {
   "cell_type": "code",
   "execution_count": 22,
   "metadata": {},
   "outputs": [
    {
     "data": {
      "text/plain": [
       "count    44809.000000\n",
       "mean        34.658685\n",
       "std          8.462094\n",
       "min         21.000000\n",
       "25%         28.000000\n",
       "50%         33.000000\n",
       "75%         39.000000\n",
       "max         70.000000\n",
       "Name: officer_age, dtype: float64"
      ]
     },
     "execution_count": 22,
     "metadata": {},
     "output_type": "execute_result"
    }
   ],
   "source": [
    "terry_df.officer_age.describe()"
   ]
  },
  {
   "cell_type": "code",
   "execution_count": 25,
   "metadata": {},
   "outputs": [
    {
     "data": {
      "text/plain": [
       "M    39703\n",
       "F     5106\n",
       "N        0\n",
       "Name: officer_gender, dtype: int64"
      ]
     },
     "execution_count": 25,
     "metadata": {},
     "output_type": "execute_result"
    }
   ],
   "source": [
    "terry_df.officer_gender.value_counts(dropna=False)"
   ]
  },
  {
   "cell_type": "code",
   "execution_count": 26,
   "metadata": {},
   "outputs": [
    {
     "data": {
      "text/plain": [
       "['M', 'F']\n",
       "Categories (2, object): ['M', 'F']"
      ]
     },
     "execution_count": 26,
     "metadata": {},
     "output_type": "execute_result"
    }
   ],
   "source": [
    "terry_df.officer_gender.unique()"
   ]
  },
  {
   "cell_type": "code",
   "execution_count": 28,
   "metadata": {},
   "outputs": [
    {
     "data": {
      "text/plain": [
       "White                            34132\n",
       "Hispanic or Latino                2549\n",
       "Two or More Races                 2489\n",
       "Asian                             1854\n",
       "Black or African American         1793\n",
       "Not Specified                     1244\n",
       "Nat Hawaiian/Oth Pac Islander      437\n",
       "American Indian/Alaska Native      311\n",
       "Unknown                              0\n",
       "Name: officer_race, dtype: int64"
      ]
     },
     "execution_count": 28,
     "metadata": {},
     "output_type": "execute_result"
    }
   ],
   "source": [
    "terry_df.officer_race.value_counts(dropna=False)"
   ]
  },
  {
   "cell_type": "code",
   "execution_count": null,
   "metadata": {},
   "outputs": [],
   "source": [
    "# 'not specified' and 'unknown' are the same thing\n",
    "# so i will jsut put the values in one "
   ]
  }
 ],
 "metadata": {
  "kernelspec": {
   "display_name": "learn-env",
   "language": "python",
   "name": "learn-env"
  },
  "language_info": {
   "codemirror_mode": {
    "name": "ipython",
    "version": 3
   },
   "file_extension": ".py",
   "mimetype": "text/x-python",
   "name": "python",
   "nbconvert_exporter": "python",
   "pygments_lexer": "ipython3",
   "version": "3.6.9"
  },
  "toc": {
   "base_numbering": 1,
   "nav_menu": {},
   "number_sections": false,
   "sideBar": true,
   "skip_h1_title": false,
   "title_cell": "Table of Contents",
   "title_sidebar": "Contents",
   "toc_cell": false,
   "toc_position": {},
   "toc_section_display": true,
   "toc_window_display": false
  },
  "varInspector": {
   "cols": {
    "lenName": 16,
    "lenType": 16,
    "lenVar": 40
   },
   "kernels_config": {
    "python": {
     "delete_cmd_postfix": "",
     "delete_cmd_prefix": "del ",
     "library": "var_list.py",
     "varRefreshCmd": "print(var_dic_list())"
    },
    "r": {
     "delete_cmd_postfix": ") ",
     "delete_cmd_prefix": "rm(",
     "library": "var_list.r",
     "varRefreshCmd": "cat(var_dic_list()) "
    }
   },
   "types_to_exclude": [
    "module",
    "function",
    "builtin_function_or_method",
    "instance",
    "_Feature"
   ],
   "window_display": false
  }
 },
 "nbformat": 4,
 "nbformat_minor": 4
}
