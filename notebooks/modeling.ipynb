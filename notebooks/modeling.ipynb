{
 "cells": [
  {
   "cell_type": "markdown",
   "metadata": {},
   "source": [
    "# Modeling"
   ]
  },
  {
   "cell_type": "code",
   "execution_count": 1,
   "metadata": {},
   "outputs": [],
   "source": [
    "# import necessary libraries\n",
    "import pandas as pd\n",
    "import numpy as np\n",
    "import itertools\n",
    "import matplotlib.pyplot as plt\n",
    "%matplotlib inline\n",
    "import seaborn as sns\n",
    "from sklearn.metrics import mean_squared_error\n",
    "from sklearn.model_selection import GridSearchCV\n",
    "from sklearn.preprocessing import StandardScaler\n",
    "from sklearn.neighbors import KNeighborsClassifier\n",
    "from sklearn.model_selection import train_test_split\n",
    "from sklearn.ensemble import RandomForestClassifier, AdaBoostClassifier, GradientBoostingClassifier\n",
    "from sklearn.pipeline import Pipeline\n",
    "from sklearn.metrics import classification_report, confusion_matrix, precision_score, accuracy_score, recall_score, f1_score, roc_curve, auc\n",
    "from imblearn.over_sampling import SMOTE\n",
    "\n",
    "import warnings\n",
    "warnings.filterwarnings('ignore')"
   ]
  },
  {
   "cell_type": "code",
   "execution_count": 2,
   "metadata": {},
   "outputs": [],
   "source": [
    "terry_df = pd.read_csv('../data/terry_clean.csv')"
   ]
  },
  {
   "cell_type": "code",
   "execution_count": 3,
   "metadata": {},
   "outputs": [
    {
     "data": {
      "text/html": [
       "<div>\n",
       "<style scoped>\n",
       "    .dataframe tbody tr th:only-of-type {\n",
       "        vertical-align: middle;\n",
       "    }\n",
       "\n",
       "    .dataframe tbody tr th {\n",
       "        vertical-align: top;\n",
       "    }\n",
       "\n",
       "    .dataframe thead th {\n",
       "        text-align: right;\n",
       "    }\n",
       "</style>\n",
       "<table border=\"1\" class=\"dataframe\">\n",
       "  <thead>\n",
       "    <tr style=\"text-align: right;\">\n",
       "      <th></th>\n",
       "      <th>date</th>\n",
       "      <th>subject_id</th>\n",
       "      <th>subject_age</th>\n",
       "      <th>subject_race</th>\n",
       "      <th>subject_gender</th>\n",
       "      <th>stop_resolution</th>\n",
       "      <th>weapon_type</th>\n",
       "      <th>officer_id</th>\n",
       "      <th>officer_yob</th>\n",
       "      <th>officer_race</th>\n",
       "      <th>officer_gender</th>\n",
       "      <th>officer_squad</th>\n",
       "      <th>initial_call_type</th>\n",
       "      <th>call_type</th>\n",
       "      <th>arrest</th>\n",
       "      <th>frisk</th>\n",
       "      <th>precinct</th>\n",
       "      <th>sector</th>\n",
       "      <th>beat</th>\n",
       "      <th>officer_age</th>\n",
       "    </tr>\n",
       "  </thead>\n",
       "  <tbody>\n",
       "    <tr>\n",
       "      <th>0</th>\n",
       "      <td>2015-10-16</td>\n",
       "      <td>-1</td>\n",
       "      <td>26 - 35</td>\n",
       "      <td>Asian</td>\n",
       "      <td>Male</td>\n",
       "      <td>Arrest</td>\n",
       "      <td>None</td>\n",
       "      <td>7500</td>\n",
       "      <td>1984</td>\n",
       "      <td>Black or African American</td>\n",
       "      <td>M</td>\n",
       "      <td>SOUTH PCT 1ST W - ROBERT</td>\n",
       "      <td>NaN</td>\n",
       "      <td>NaN</td>\n",
       "      <td>0</td>\n",
       "      <td>0.0</td>\n",
       "      <td>South</td>\n",
       "      <td>O</td>\n",
       "      <td>O2</td>\n",
       "      <td>31</td>\n",
       "    </tr>\n",
       "    <tr>\n",
       "      <th>1</th>\n",
       "      <td>2015-03-19</td>\n",
       "      <td>-1</td>\n",
       "      <td>26 - 35</td>\n",
       "      <td>Other</td>\n",
       "      <td>Male</td>\n",
       "      <td>Field Contact</td>\n",
       "      <td>None</td>\n",
       "      <td>5670</td>\n",
       "      <td>1965</td>\n",
       "      <td>White</td>\n",
       "      <td>M</td>\n",
       "      <td>NaN</td>\n",
       "      <td>NaN</td>\n",
       "      <td>NaN</td>\n",
       "      <td>0</td>\n",
       "      <td>0.0</td>\n",
       "      <td>NaN</td>\n",
       "      <td>NaN</td>\n",
       "      <td>NaN</td>\n",
       "      <td>50</td>\n",
       "    </tr>\n",
       "    <tr>\n",
       "      <th>2</th>\n",
       "      <td>2015-04-01</td>\n",
       "      <td>-1</td>\n",
       "      <td>26 - 35</td>\n",
       "      <td>Other</td>\n",
       "      <td>Male</td>\n",
       "      <td>Field Contact</td>\n",
       "      <td>None</td>\n",
       "      <td>7539</td>\n",
       "      <td>1963</td>\n",
       "      <td>White</td>\n",
       "      <td>M</td>\n",
       "      <td>NaN</td>\n",
       "      <td>NaN</td>\n",
       "      <td>NaN</td>\n",
       "      <td>0</td>\n",
       "      <td>0.0</td>\n",
       "      <td>NaN</td>\n",
       "      <td>NaN</td>\n",
       "      <td>NaN</td>\n",
       "      <td>52</td>\n",
       "    </tr>\n",
       "    <tr>\n",
       "      <th>3</th>\n",
       "      <td>2015-04-03</td>\n",
       "      <td>-1</td>\n",
       "      <td>26 - 35</td>\n",
       "      <td>Black or African American</td>\n",
       "      <td>Male</td>\n",
       "      <td>Field Contact</td>\n",
       "      <td>None</td>\n",
       "      <td>6973</td>\n",
       "      <td>1977</td>\n",
       "      <td>White</td>\n",
       "      <td>M</td>\n",
       "      <td>NaN</td>\n",
       "      <td>NaN</td>\n",
       "      <td>NaN</td>\n",
       "      <td>0</td>\n",
       "      <td>0.0</td>\n",
       "      <td>NaN</td>\n",
       "      <td>NaN</td>\n",
       "      <td>NaN</td>\n",
       "      <td>38</td>\n",
       "    </tr>\n",
       "    <tr>\n",
       "      <th>4</th>\n",
       "      <td>2015-04-05</td>\n",
       "      <td>-1</td>\n",
       "      <td>26 - 35</td>\n",
       "      <td>Black or African American</td>\n",
       "      <td>Male</td>\n",
       "      <td>Field Contact</td>\n",
       "      <td>None</td>\n",
       "      <td>7402</td>\n",
       "      <td>1973</td>\n",
       "      <td>White</td>\n",
       "      <td>M</td>\n",
       "      <td>NaN</td>\n",
       "      <td>NaN</td>\n",
       "      <td>NaN</td>\n",
       "      <td>0</td>\n",
       "      <td>0.0</td>\n",
       "      <td>NaN</td>\n",
       "      <td>NaN</td>\n",
       "      <td>NaN</td>\n",
       "      <td>42</td>\n",
       "    </tr>\n",
       "  </tbody>\n",
       "</table>\n",
       "</div>"
      ],
      "text/plain": [
       "         date  subject_id subject_age               subject_race  \\\n",
       "0  2015-10-16          -1     26 - 35                      Asian   \n",
       "1  2015-03-19          -1     26 - 35                      Other   \n",
       "2  2015-04-01          -1     26 - 35                      Other   \n",
       "3  2015-04-03          -1     26 - 35  Black or African American   \n",
       "4  2015-04-05          -1     26 - 35  Black or African American   \n",
       "\n",
       "  subject_gender stop_resolution weapon_type  officer_id  officer_yob  \\\n",
       "0           Male          Arrest        None        7500         1984   \n",
       "1           Male   Field Contact        None        5670         1965   \n",
       "2           Male   Field Contact        None        7539         1963   \n",
       "3           Male   Field Contact        None        6973         1977   \n",
       "4           Male   Field Contact        None        7402         1973   \n",
       "\n",
       "                officer_race officer_gender             officer_squad  \\\n",
       "0  Black or African American              M  SOUTH PCT 1ST W - ROBERT   \n",
       "1                      White              M                       NaN   \n",
       "2                      White              M                       NaN   \n",
       "3                      White              M                       NaN   \n",
       "4                      White              M                       NaN   \n",
       "\n",
       "  initial_call_type call_type  arrest  frisk precinct  sector    beat  \\\n",
       "0               NaN       NaN       0    0.0    South  O       O2       \n",
       "1               NaN       NaN       0    0.0      NaN     NaN     NaN   \n",
       "2               NaN       NaN       0    0.0      NaN     NaN     NaN   \n",
       "3               NaN       NaN       0    0.0      NaN     NaN     NaN   \n",
       "4               NaN       NaN       0    0.0      NaN     NaN     NaN   \n",
       "\n",
       "   officer_age  \n",
       "0           31  \n",
       "1           50  \n",
       "2           52  \n",
       "3           38  \n",
       "4           42  "
      ]
     },
     "execution_count": 3,
     "metadata": {},
     "output_type": "execute_result"
    }
   ],
   "source": [
    "terry_df.head()"
   ]
  },
  {
   "cell_type": "code",
   "execution_count": 4,
   "metadata": {},
   "outputs": [
    {
     "name": "stdout",
     "output_type": "stream",
     "text": [
      "<class 'pandas.core.frame.DataFrame'>\n",
      "RangeIndex: 44331 entries, 0 to 44330\n",
      "Data columns (total 20 columns):\n",
      " #   Column             Non-Null Count  Dtype  \n",
      "---  ------             --------------  -----  \n",
      " 0   date               44331 non-null  object \n",
      " 1   subject_id         44331 non-null  int64  \n",
      " 2   subject_age        44331 non-null  object \n",
      " 3   subject_race       44331 non-null  object \n",
      " 4   subject_gender     44331 non-null  object \n",
      " 5   stop_resolution    44331 non-null  object \n",
      " 6   weapon_type        34687 non-null  object \n",
      " 7   officer_id         44331 non-null  int64  \n",
      " 8   officer_yob        44331 non-null  int64  \n",
      " 9   officer_race       44331 non-null  object \n",
      " 10  officer_gender     44331 non-null  object \n",
      " 11  officer_squad      43796 non-null  object \n",
      " 12  initial_call_type  31518 non-null  object \n",
      " 13  call_type          31518 non-null  object \n",
      " 14  arrest             44331 non-null  int64  \n",
      " 15  frisk              44331 non-null  float64\n",
      " 16  precinct           34741 non-null  object \n",
      " 17  sector             34547 non-null  object \n",
      " 18  beat               34600 non-null  object \n",
      " 19  officer_age        44331 non-null  int64  \n",
      "dtypes: float64(1), int64(5), object(14)\n",
      "memory usage: 6.8+ MB\n"
     ]
    }
   ],
   "source": [
    "terry_df.info()"
   ]
  },
  {
   "cell_type": "code",
   "execution_count": 5,
   "metadata": {},
   "outputs": [],
   "source": [
    "# changing columns into categories and datetime\n",
    "terry_df = terry_df.astype({'subject_age': 'category', 'officer_gender':'category', \n",
    "                'officer_race': 'category', 'subject_race':'category', \n",
    "                'subject_gender':'category', 'date':'datetime64','arrest':'int64', \n",
    "                'frisk':'int64','precinct':'category', 'sector':'category',\n",
    "                'beat': 'category', 'stop_resolution' : 'category', 'weapon_type' : 'category'})"
   ]
  },
  {
   "cell_type": "code",
   "execution_count": 6,
   "metadata": {},
   "outputs": [
    {
     "name": "stdout",
     "output_type": "stream",
     "text": [
      "<class 'pandas.core.frame.DataFrame'>\n",
      "RangeIndex: 44331 entries, 0 to 44330\n",
      "Data columns (total 20 columns):\n",
      " #   Column             Non-Null Count  Dtype         \n",
      "---  ------             --------------  -----         \n",
      " 0   date               44331 non-null  datetime64[ns]\n",
      " 1   subject_id         44331 non-null  int64         \n",
      " 2   subject_age        44331 non-null  category      \n",
      " 3   subject_race       44331 non-null  category      \n",
      " 4   subject_gender     44331 non-null  category      \n",
      " 5   stop_resolution    44331 non-null  category      \n",
      " 6   weapon_type        34687 non-null  category      \n",
      " 7   officer_id         44331 non-null  int64         \n",
      " 8   officer_yob        44331 non-null  int64         \n",
      " 9   officer_race       44331 non-null  category      \n",
      " 10  officer_gender     44331 non-null  category      \n",
      " 11  officer_squad      43796 non-null  object        \n",
      " 12  initial_call_type  31518 non-null  object        \n",
      " 13  call_type          31518 non-null  object        \n",
      " 14  arrest             44331 non-null  int64         \n",
      " 15  frisk              44331 non-null  int64         \n",
      " 16  precinct           34741 non-null  category      \n",
      " 17  sector             34547 non-null  category      \n",
      " 18  beat               34600 non-null  category      \n",
      " 19  officer_age        44331 non-null  int64         \n",
      "dtypes: category(10), datetime64[ns](1), int64(6), object(3)\n",
      "memory usage: 3.8+ MB\n"
     ]
    }
   ],
   "source": [
    "terry_df.info()"
   ]
  },
  {
   "cell_type": "code",
   "execution_count": 7,
   "metadata": {},
   "outputs": [
    {
     "data": {
      "text/plain": [
       "date                     0\n",
       "subject_id               0\n",
       "subject_age              0\n",
       "subject_race             0\n",
       "subject_gender           0\n",
       "stop_resolution          0\n",
       "weapon_type           9644\n",
       "officer_id               0\n",
       "officer_yob              0\n",
       "officer_race             0\n",
       "officer_gender           0\n",
       "officer_squad          535\n",
       "initial_call_type    12813\n",
       "call_type            12813\n",
       "arrest                   0\n",
       "frisk                    0\n",
       "precinct              9590\n",
       "sector                9784\n",
       "beat                  9731\n",
       "officer_age              0\n",
       "dtype: int64"
      ]
     },
     "execution_count": 7,
     "metadata": {},
     "output_type": "execute_result"
    }
   ],
   "source": [
    "terry_df.isna().sum()"
   ]
  },
  {
   "cell_type": "code",
   "execution_count": 8,
   "metadata": {},
   "outputs": [
    {
     "data": {
      "text/html": [
       "<div>\n",
       "<style scoped>\n",
       "    .dataframe tbody tr th:only-of-type {\n",
       "        vertical-align: middle;\n",
       "    }\n",
       "\n",
       "    .dataframe tbody tr th {\n",
       "        vertical-align: top;\n",
       "    }\n",
       "\n",
       "    .dataframe thead th {\n",
       "        text-align: right;\n",
       "    }\n",
       "</style>\n",
       "<table border=\"1\" class=\"dataframe\">\n",
       "  <thead>\n",
       "    <tr style=\"text-align: right;\">\n",
       "      <th></th>\n",
       "      <th>subject_id</th>\n",
       "      <th>officer_id</th>\n",
       "      <th>officer_yob</th>\n",
       "      <th>arrest</th>\n",
       "      <th>frisk</th>\n",
       "      <th>officer_age</th>\n",
       "    </tr>\n",
       "  </thead>\n",
       "  <tbody>\n",
       "    <tr>\n",
       "      <th>count</th>\n",
       "      <td>4.433100e+04</td>\n",
       "      <td>44331.000000</td>\n",
       "      <td>44331.000000</td>\n",
       "      <td>44331.000000</td>\n",
       "      <td>44331.000000</td>\n",
       "      <td>44331.000000</td>\n",
       "    </tr>\n",
       "    <tr>\n",
       "      <th>mean</th>\n",
       "      <td>2.069479e+09</td>\n",
       "      <td>7775.958607</td>\n",
       "      <td>1982.817938</td>\n",
       "      <td>0.059552</td>\n",
       "      <td>0.225012</td>\n",
       "      <td>34.633687</td>\n",
       "    </tr>\n",
       "    <tr>\n",
       "      <th>std</th>\n",
       "      <td>3.947564e+09</td>\n",
       "      <td>810.136280</td>\n",
       "      <td>8.780869</td>\n",
       "      <td>0.236658</td>\n",
       "      <td>0.417595</td>\n",
       "      <td>8.452223</td>\n",
       "    </tr>\n",
       "    <tr>\n",
       "      <th>min</th>\n",
       "      <td>-1.000000e+00</td>\n",
       "      <td>2768.000000</td>\n",
       "      <td>1946.000000</td>\n",
       "      <td>0.000000</td>\n",
       "      <td>0.000000</td>\n",
       "      <td>21.000000</td>\n",
       "    </tr>\n",
       "    <tr>\n",
       "      <th>25%</th>\n",
       "      <td>-1.000000e+00</td>\n",
       "      <td>7522.000000</td>\n",
       "      <td>1978.000000</td>\n",
       "      <td>0.000000</td>\n",
       "      <td>0.000000</td>\n",
       "      <td>28.000000</td>\n",
       "    </tr>\n",
       "    <tr>\n",
       "      <th>50%</th>\n",
       "      <td>-1.000000e+00</td>\n",
       "      <td>7765.000000</td>\n",
       "      <td>1985.000000</td>\n",
       "      <td>0.000000</td>\n",
       "      <td>0.000000</td>\n",
       "      <td>33.000000</td>\n",
       "    </tr>\n",
       "    <tr>\n",
       "      <th>75%</th>\n",
       "      <td>-1.000000e+00</td>\n",
       "      <td>8442.000000</td>\n",
       "      <td>1989.000000</td>\n",
       "      <td>0.000000</td>\n",
       "      <td>0.000000</td>\n",
       "      <td>39.000000</td>\n",
       "    </tr>\n",
       "    <tr>\n",
       "      <th>max</th>\n",
       "      <td>1.755682e+10</td>\n",
       "      <td>8804.000000</td>\n",
       "      <td>1997.000000</td>\n",
       "      <td>1.000000</td>\n",
       "      <td>1.000000</td>\n",
       "      <td>70.000000</td>\n",
       "    </tr>\n",
       "  </tbody>\n",
       "</table>\n",
       "</div>"
      ],
      "text/plain": [
       "         subject_id    officer_id   officer_yob        arrest         frisk  \\\n",
       "count  4.433100e+04  44331.000000  44331.000000  44331.000000  44331.000000   \n",
       "mean   2.069479e+09   7775.958607   1982.817938      0.059552      0.225012   \n",
       "std    3.947564e+09    810.136280      8.780869      0.236658      0.417595   \n",
       "min   -1.000000e+00   2768.000000   1946.000000      0.000000      0.000000   \n",
       "25%   -1.000000e+00   7522.000000   1978.000000      0.000000      0.000000   \n",
       "50%   -1.000000e+00   7765.000000   1985.000000      0.000000      0.000000   \n",
       "75%   -1.000000e+00   8442.000000   1989.000000      0.000000      0.000000   \n",
       "max    1.755682e+10   8804.000000   1997.000000      1.000000      1.000000   \n",
       "\n",
       "        officer_age  \n",
       "count  44331.000000  \n",
       "mean      34.633687  \n",
       "std        8.452223  \n",
       "min       21.000000  \n",
       "25%       28.000000  \n",
       "50%       33.000000  \n",
       "75%       39.000000  \n",
       "max       70.000000  "
      ]
     },
     "execution_count": 8,
     "metadata": {},
     "output_type": "execute_result"
    }
   ],
   "source": [
    "terry_df.describe()"
   ]
  },
  {
   "cell_type": "code",
   "execution_count": 9,
   "metadata": {},
   "outputs": [
    {
     "data": {
      "text/plain": [
       "911                              19711\n",
       "ONVIEW                            8412\n",
       "TELEPHONE OTHER, NOT 911          3098\n",
       "ALARM CALL (NOT POLICE ALARM)      290\n",
       "TEXT MESSAGE                         6\n",
       "SCHEDULED EVENT (RECURRING)          1\n",
       "Name: call_type, dtype: int64"
      ]
     },
     "execution_count": 9,
     "metadata": {},
     "output_type": "execute_result"
    }
   ],
   "source": [
    "terry_df.call_type.value_counts()"
   ]
  },
  {
   "cell_type": "markdown",
   "metadata": {},
   "source": [
    "***\n",
    "## Preprocessing the Data"
   ]
  },
  {
   "cell_type": "code",
   "execution_count": 10,
   "metadata": {},
   "outputs": [],
   "source": [
    "# dropping unnecessary columns\n",
    "df = terry_df.drop(['date', 'subject_id', 'officer_id', 'initial_call_type', 'call_type', 'precinct', 'sector', 'beat', 'officer_squad' ], axis=1, inplace=False)"
   ]
  },
  {
   "cell_type": "code",
   "execution_count": 11,
   "metadata": {},
   "outputs": [
    {
     "data": {
      "text/html": [
       "<div>\n",
       "<style scoped>\n",
       "    .dataframe tbody tr th:only-of-type {\n",
       "        vertical-align: middle;\n",
       "    }\n",
       "\n",
       "    .dataframe tbody tr th {\n",
       "        vertical-align: top;\n",
       "    }\n",
       "\n",
       "    .dataframe thead th {\n",
       "        text-align: right;\n",
       "    }\n",
       "</style>\n",
       "<table border=\"1\" class=\"dataframe\">\n",
       "  <thead>\n",
       "    <tr style=\"text-align: right;\">\n",
       "      <th></th>\n",
       "      <th>subject_age</th>\n",
       "      <th>subject_race</th>\n",
       "      <th>subject_gender</th>\n",
       "      <th>stop_resolution</th>\n",
       "      <th>weapon_type</th>\n",
       "      <th>officer_yob</th>\n",
       "      <th>officer_race</th>\n",
       "      <th>officer_gender</th>\n",
       "      <th>arrest</th>\n",
       "      <th>frisk</th>\n",
       "      <th>officer_age</th>\n",
       "    </tr>\n",
       "  </thead>\n",
       "  <tbody>\n",
       "    <tr>\n",
       "      <th>0</th>\n",
       "      <td>26 - 35</td>\n",
       "      <td>Asian</td>\n",
       "      <td>Male</td>\n",
       "      <td>Arrest</td>\n",
       "      <td>None</td>\n",
       "      <td>1984</td>\n",
       "      <td>Black or African American</td>\n",
       "      <td>M</td>\n",
       "      <td>0</td>\n",
       "      <td>0</td>\n",
       "      <td>31</td>\n",
       "    </tr>\n",
       "    <tr>\n",
       "      <th>1</th>\n",
       "      <td>26 - 35</td>\n",
       "      <td>Other</td>\n",
       "      <td>Male</td>\n",
       "      <td>Field Contact</td>\n",
       "      <td>None</td>\n",
       "      <td>1965</td>\n",
       "      <td>White</td>\n",
       "      <td>M</td>\n",
       "      <td>0</td>\n",
       "      <td>0</td>\n",
       "      <td>50</td>\n",
       "    </tr>\n",
       "    <tr>\n",
       "      <th>2</th>\n",
       "      <td>26 - 35</td>\n",
       "      <td>Other</td>\n",
       "      <td>Male</td>\n",
       "      <td>Field Contact</td>\n",
       "      <td>None</td>\n",
       "      <td>1963</td>\n",
       "      <td>White</td>\n",
       "      <td>M</td>\n",
       "      <td>0</td>\n",
       "      <td>0</td>\n",
       "      <td>52</td>\n",
       "    </tr>\n",
       "    <tr>\n",
       "      <th>3</th>\n",
       "      <td>26 - 35</td>\n",
       "      <td>Black or African American</td>\n",
       "      <td>Male</td>\n",
       "      <td>Field Contact</td>\n",
       "      <td>None</td>\n",
       "      <td>1977</td>\n",
       "      <td>White</td>\n",
       "      <td>M</td>\n",
       "      <td>0</td>\n",
       "      <td>0</td>\n",
       "      <td>38</td>\n",
       "    </tr>\n",
       "    <tr>\n",
       "      <th>4</th>\n",
       "      <td>26 - 35</td>\n",
       "      <td>Black or African American</td>\n",
       "      <td>Male</td>\n",
       "      <td>Field Contact</td>\n",
       "      <td>None</td>\n",
       "      <td>1973</td>\n",
       "      <td>White</td>\n",
       "      <td>M</td>\n",
       "      <td>0</td>\n",
       "      <td>0</td>\n",
       "      <td>42</td>\n",
       "    </tr>\n",
       "  </tbody>\n",
       "</table>\n",
       "</div>"
      ],
      "text/plain": [
       "  subject_age               subject_race subject_gender stop_resolution  \\\n",
       "0     26 - 35                      Asian           Male          Arrest   \n",
       "1     26 - 35                      Other           Male   Field Contact   \n",
       "2     26 - 35                      Other           Male   Field Contact   \n",
       "3     26 - 35  Black or African American           Male   Field Contact   \n",
       "4     26 - 35  Black or African American           Male   Field Contact   \n",
       "\n",
       "  weapon_type  officer_yob               officer_race officer_gender  arrest  \\\n",
       "0        None         1984  Black or African American              M       0   \n",
       "1        None         1965                      White              M       0   \n",
       "2        None         1963                      White              M       0   \n",
       "3        None         1977                      White              M       0   \n",
       "4        None         1973                      White              M       0   \n",
       "\n",
       "   frisk  officer_age  \n",
       "0      0           31  \n",
       "1      0           50  \n",
       "2      0           52  \n",
       "3      0           38  \n",
       "4      0           42  "
      ]
     },
     "execution_count": 11,
     "metadata": {},
     "output_type": "execute_result"
    }
   ],
   "source": [
    "df.head()"
   ]
  },
  {
   "cell_type": "code",
   "execution_count": 12,
   "metadata": {
    "scrolled": true
   },
   "outputs": [
    {
     "data": {
      "text/html": [
       "<div>\n",
       "<style scoped>\n",
       "    .dataframe tbody tr th:only-of-type {\n",
       "        vertical-align: middle;\n",
       "    }\n",
       "\n",
       "    .dataframe tbody tr th {\n",
       "        vertical-align: top;\n",
       "    }\n",
       "\n",
       "    .dataframe thead th {\n",
       "        text-align: right;\n",
       "    }\n",
       "</style>\n",
       "<table border=\"1\" class=\"dataframe\">\n",
       "  <thead>\n",
       "    <tr style=\"text-align: right;\">\n",
       "      <th></th>\n",
       "      <th>subject_age</th>\n",
       "      <th>subject_race</th>\n",
       "      <th>subject_gender</th>\n",
       "      <th>stop_resolution</th>\n",
       "      <th>weapon_type</th>\n",
       "      <th>officer_yob</th>\n",
       "      <th>officer_race</th>\n",
       "      <th>officer_gender</th>\n",
       "      <th>arrest</th>\n",
       "      <th>frisk</th>\n",
       "      <th>officer_age</th>\n",
       "    </tr>\n",
       "  </thead>\n",
       "  <tbody>\n",
       "    <tr>\n",
       "      <th>0</th>\n",
       "      <td>26 - 35</td>\n",
       "      <td>White</td>\n",
       "      <td>Male</td>\n",
       "      <td>Field Contact</td>\n",
       "      <td>None</td>\n",
       "      <td>1986</td>\n",
       "      <td>White</td>\n",
       "      <td>M</td>\n",
       "      <td>0</td>\n",
       "      <td>0</td>\n",
       "      <td>31</td>\n",
       "    </tr>\n",
       "  </tbody>\n",
       "</table>\n",
       "</div>"
      ],
      "text/plain": [
       "  subject_age subject_race subject_gender stop_resolution weapon_type  \\\n",
       "0     26 - 35        White           Male   Field Contact        None   \n",
       "\n",
       "   officer_yob officer_race officer_gender  arrest  frisk  officer_age  \n",
       "0         1986        White              M       0      0           31  "
      ]
     },
     "execution_count": 12,
     "metadata": {},
     "output_type": "execute_result"
    }
   ],
   "source": [
    "df.mode()"
   ]
  },
  {
   "cell_type": "code",
   "execution_count": 13,
   "metadata": {},
   "outputs": [
    {
     "data": {
      "text/plain": [
       "subject_age        0\n",
       "subject_race       0\n",
       "subject_gender     0\n",
       "stop_resolution    0\n",
       "weapon_type        0\n",
       "officer_yob        0\n",
       "officer_race       0\n",
       "officer_gender     0\n",
       "arrest             0\n",
       "frisk              0\n",
       "officer_age        0\n",
       "dtype: int64"
      ]
     },
     "execution_count": 13,
     "metadata": {},
     "output_type": "execute_result"
    }
   ],
   "source": [
    "# fill in weapon_type with mode \n",
    "df['weapon_type'] = df['weapon_type'].fillna('None')\n",
    "df.isna().sum()"
   ]
  },
  {
   "cell_type": "markdown",
   "metadata": {},
   "source": [
    "#### Some feature engineering"
   ]
  },
  {
   "cell_type": "code",
   "execution_count": 14,
   "metadata": {},
   "outputs": [
    {
     "data": {
      "text/html": [
       "<div>\n",
       "<style scoped>\n",
       "    .dataframe tbody tr th:only-of-type {\n",
       "        vertical-align: middle;\n",
       "    }\n",
       "\n",
       "    .dataframe tbody tr th {\n",
       "        vertical-align: top;\n",
       "    }\n",
       "\n",
       "    .dataframe thead th {\n",
       "        text-align: right;\n",
       "    }\n",
       "</style>\n",
       "<table border=\"1\" class=\"dataframe\">\n",
       "  <thead>\n",
       "    <tr style=\"text-align: right;\">\n",
       "      <th></th>\n",
       "      <th>subject_age</th>\n",
       "      <th>subject_race</th>\n",
       "      <th>subject_gender</th>\n",
       "      <th>stop_resolution</th>\n",
       "      <th>weapon_type</th>\n",
       "      <th>officer_yob</th>\n",
       "      <th>officer_race</th>\n",
       "      <th>officer_gender</th>\n",
       "      <th>arrest</th>\n",
       "      <th>frisk</th>\n",
       "      <th>officer_age</th>\n",
       "      <th>has_weapon</th>\n",
       "    </tr>\n",
       "  </thead>\n",
       "  <tbody>\n",
       "    <tr>\n",
       "      <th>0</th>\n",
       "      <td>26 - 35</td>\n",
       "      <td>Asian</td>\n",
       "      <td>Male</td>\n",
       "      <td>Arrest</td>\n",
       "      <td>None</td>\n",
       "      <td>1984</td>\n",
       "      <td>Black or African American</td>\n",
       "      <td>M</td>\n",
       "      <td>0</td>\n",
       "      <td>0</td>\n",
       "      <td>31</td>\n",
       "      <td>0</td>\n",
       "    </tr>\n",
       "    <tr>\n",
       "      <th>1</th>\n",
       "      <td>26 - 35</td>\n",
       "      <td>Other</td>\n",
       "      <td>Male</td>\n",
       "      <td>Field Contact</td>\n",
       "      <td>None</td>\n",
       "      <td>1965</td>\n",
       "      <td>White</td>\n",
       "      <td>M</td>\n",
       "      <td>0</td>\n",
       "      <td>0</td>\n",
       "      <td>50</td>\n",
       "      <td>0</td>\n",
       "    </tr>\n",
       "    <tr>\n",
       "      <th>2</th>\n",
       "      <td>26 - 35</td>\n",
       "      <td>Other</td>\n",
       "      <td>Male</td>\n",
       "      <td>Field Contact</td>\n",
       "      <td>None</td>\n",
       "      <td>1963</td>\n",
       "      <td>White</td>\n",
       "      <td>M</td>\n",
       "      <td>0</td>\n",
       "      <td>0</td>\n",
       "      <td>52</td>\n",
       "      <td>0</td>\n",
       "    </tr>\n",
       "    <tr>\n",
       "      <th>3</th>\n",
       "      <td>26 - 35</td>\n",
       "      <td>Black or African American</td>\n",
       "      <td>Male</td>\n",
       "      <td>Field Contact</td>\n",
       "      <td>None</td>\n",
       "      <td>1977</td>\n",
       "      <td>White</td>\n",
       "      <td>M</td>\n",
       "      <td>0</td>\n",
       "      <td>0</td>\n",
       "      <td>38</td>\n",
       "      <td>0</td>\n",
       "    </tr>\n",
       "    <tr>\n",
       "      <th>4</th>\n",
       "      <td>26 - 35</td>\n",
       "      <td>Black or African American</td>\n",
       "      <td>Male</td>\n",
       "      <td>Field Contact</td>\n",
       "      <td>None</td>\n",
       "      <td>1973</td>\n",
       "      <td>White</td>\n",
       "      <td>M</td>\n",
       "      <td>0</td>\n",
       "      <td>0</td>\n",
       "      <td>42</td>\n",
       "      <td>0</td>\n",
       "    </tr>\n",
       "  </tbody>\n",
       "</table>\n",
       "</div>"
      ],
      "text/plain": [
       "  subject_age               subject_race subject_gender stop_resolution  \\\n",
       "0     26 - 35                      Asian           Male          Arrest   \n",
       "1     26 - 35                      Other           Male   Field Contact   \n",
       "2     26 - 35                      Other           Male   Field Contact   \n",
       "3     26 - 35  Black or African American           Male   Field Contact   \n",
       "4     26 - 35  Black or African American           Male   Field Contact   \n",
       "\n",
       "  weapon_type  officer_yob               officer_race officer_gender  arrest  \\\n",
       "0        None         1984  Black or African American              M       0   \n",
       "1        None         1965                      White              M       0   \n",
       "2        None         1963                      White              M       0   \n",
       "3        None         1977                      White              M       0   \n",
       "4        None         1973                      White              M       0   \n",
       "\n",
       "   frisk  officer_age  has_weapon  \n",
       "0      0           31           0  \n",
       "1      0           50           0  \n",
       "2      0           52           0  \n",
       "3      0           38           0  \n",
       "4      0           42           0  "
      ]
     },
     "execution_count": 14,
     "metadata": {},
     "output_type": "execute_result"
    }
   ],
   "source": [
    "weapons = [] \n",
    "for weapon in df['weapon_type']:\n",
    "    if weapon == 'None': \n",
    "        weapons.append(0)\n",
    "    else:\n",
    "        weapons.append(1) \n",
    "df['has_weapon'] = weapons \n",
    "df.head() "
   ]
  },
  {
   "cell_type": "code",
   "execution_count": 15,
   "metadata": {},
   "outputs": [
    {
     "name": "stdout",
     "output_type": "stream",
     "text": [
      "<class 'pandas.core.frame.DataFrame'>\n",
      "RangeIndex: 44331 entries, 0 to 44330\n",
      "Data columns (total 12 columns):\n",
      " #   Column           Non-Null Count  Dtype   \n",
      "---  ------           --------------  -----   \n",
      " 0   subject_age      44331 non-null  category\n",
      " 1   subject_race     44331 non-null  category\n",
      " 2   subject_gender   44331 non-null  category\n",
      " 3   stop_resolution  44331 non-null  category\n",
      " 4   weapon_type      44331 non-null  category\n",
      " 5   officer_yob      44331 non-null  int64   \n",
      " 6   officer_race     44331 non-null  category\n",
      " 7   officer_gender   44331 non-null  category\n",
      " 8   arrest           44331 non-null  int64   \n",
      " 9   frisk            44331 non-null  int64   \n",
      " 10  officer_age      44331 non-null  int64   \n",
      " 11  has_weapon       44331 non-null  int64   \n",
      "dtypes: category(7), int64(5)\n",
      "memory usage: 2.0 MB\n"
     ]
    }
   ],
   "source": [
    "df.info()"
   ]
  },
  {
   "cell_type": "code",
   "execution_count": 16,
   "metadata": {
    "scrolled": true
   },
   "outputs": [
    {
     "data": {
      "text/plain": [
       "subject_age        0\n",
       "subject_race       0\n",
       "subject_gender     0\n",
       "stop_resolution    0\n",
       "weapon_type        0\n",
       "officer_yob        0\n",
       "officer_race       0\n",
       "officer_gender     0\n",
       "arrest             0\n",
       "frisk              0\n",
       "officer_age        0\n",
       "has_weapon         0\n",
       "dtype: int64"
      ]
     },
     "execution_count": 16,
     "metadata": {},
     "output_type": "execute_result"
    }
   ],
   "source": [
    "df.isna().sum()"
   ]
  },
  {
   "cell_type": "markdown",
   "metadata": {},
   "source": [
    "***\n",
    "## Define X and y"
   ]
  },
  {
   "cell_type": "code",
   "execution_count": 17,
   "metadata": {},
   "outputs": [],
   "source": [
    "X = df.drop(['arrest'], axis=1)\n",
    "y = df['arrest']"
   ]
  },
  {
   "cell_type": "markdown",
   "metadata": {},
   "source": [
    "***\n",
    "## Train-test Split"
   ]
  },
  {
   "cell_type": "code",
   "execution_count": 18,
   "metadata": {},
   "outputs": [],
   "source": [
    "# splitting data into training-testing sets\n",
    "X_train, X_test, y_train, y_test = train_test_split(X, y, test_size=0.25, random_state=42)"
   ]
  },
  {
   "cell_type": "code",
   "execution_count": 19,
   "metadata": {},
   "outputs": [],
   "source": [
    "# creating df with continuous features\n",
    "cont_feat = X.select_dtypes(exclude = ['object', 'category'])\n",
    "\n",
    "# removing object and categoricals features in X_train and X_test\n",
    "X_train_cont = X_train.select_dtypes(exclude = ['object', 'category'])\n",
    "X_test_cont = X_test.select_dtypes(exclude = ['object', 'category'])"
   ]
  },
  {
   "cell_type": "code",
   "execution_count": 20,
   "metadata": {
    "scrolled": false
   },
   "outputs": [],
   "source": [
    "# normalizing the data \n",
    "scaler = StandardScaler()\n",
    "scaled_X_train = scaler.fit_transform(X_train_cont)\n",
    "scaled_X_test = scaler.transform(X_test_cont)\n",
    "\n",
    "# converting train data into \n",
    "#scaled_df_train = pd.DataFrame(scaled_train, columns=X.columns)\n",
    "\n",
    "#scaled_df_train.head()"
   ]
  },
  {
   "cell_type": "code",
   "execution_count": 21,
   "metadata": {},
   "outputs": [],
   "source": [
    "# making df with object and categorical feat.\n",
    "X_train_cat = X_train.select_dtypes(include = ['object', 'category'])\n",
    "X_test_cat = X_test.select_dtypes(include = ['object', 'category'])"
   ]
  },
  {
   "cell_type": "code",
   "execution_count": 22,
   "metadata": {},
   "outputs": [],
   "source": [
    "# OneHotEncode categorical columns\n",
    "from sklearn.preprocessing import OneHotEncoder\n",
    "ohe = OneHotEncoder(handle_unknown='ignore')"
   ]
  },
  {
   "cell_type": "code",
   "execution_count": 23,
   "metadata": {},
   "outputs": [],
   "source": [
    "# fit train and test sets\n",
    "X_train_ohe = ohe.fit_transform(X_train_cat)\n",
    "X_test_ohe = ohe.transform(X_test_cat)"
   ]
  },
  {
   "cell_type": "code",
   "execution_count": 24,
   "metadata": {},
   "outputs": [],
   "source": [
    "# make columns into a df\n",
    "columns = ohe.get_feature_names(input_features=X_train_cat.columns) \n",
    "cat_train_df = pd.DataFrame(X_train_ohe.todense(), columns=columns) \n",
    "cat_test_df = pd.DataFrame(X_test_ohe.todense(), columns=columns)"
   ]
  },
  {
   "cell_type": "code",
   "execution_count": 25,
   "metadata": {},
   "outputs": [],
   "source": [
    "columns = cont_feat.columns"
   ]
  },
  {
   "cell_type": "code",
   "execution_count": 26,
   "metadata": {},
   "outputs": [
    {
     "data": {
      "text/html": [
       "<div>\n",
       "<style scoped>\n",
       "    .dataframe tbody tr th:only-of-type {\n",
       "        vertical-align: middle;\n",
       "    }\n",
       "\n",
       "    .dataframe tbody tr th {\n",
       "        vertical-align: top;\n",
       "    }\n",
       "\n",
       "    .dataframe thead th {\n",
       "        text-align: right;\n",
       "    }\n",
       "</style>\n",
       "<table border=\"1\" class=\"dataframe\">\n",
       "  <thead>\n",
       "    <tr style=\"text-align: right;\">\n",
       "      <th></th>\n",
       "      <th>officer_yob</th>\n",
       "      <th>frisk</th>\n",
       "      <th>officer_age</th>\n",
       "      <th>has_weapon</th>\n",
       "    </tr>\n",
       "  </thead>\n",
       "  <tbody>\n",
       "    <tr>\n",
       "      <th>0</th>\n",
       "      <td>0.934555</td>\n",
       "      <td>-0.538593</td>\n",
       "      <td>-0.669853</td>\n",
       "      <td>-0.247972</td>\n",
       "    </tr>\n",
       "    <tr>\n",
       "      <th>1</th>\n",
       "      <td>-1.455938</td>\n",
       "      <td>-0.538593</td>\n",
       "      <td>1.459896</td>\n",
       "      <td>-0.247972</td>\n",
       "    </tr>\n",
       "    <tr>\n",
       "      <th>2</th>\n",
       "      <td>-1.455938</td>\n",
       "      <td>-0.538593</td>\n",
       "      <td>1.341577</td>\n",
       "      <td>-0.247972</td>\n",
       "    </tr>\n",
       "    <tr>\n",
       "      <th>3</th>\n",
       "      <td>-0.089942</td>\n",
       "      <td>-0.538593</td>\n",
       "      <td>-0.196575</td>\n",
       "      <td>-0.247972</td>\n",
       "    </tr>\n",
       "    <tr>\n",
       "      <th>4</th>\n",
       "      <td>-1.569771</td>\n",
       "      <td>-0.538593</td>\n",
       "      <td>1.814854</td>\n",
       "      <td>-0.247972</td>\n",
       "    </tr>\n",
       "  </tbody>\n",
       "</table>\n",
       "</div>"
      ],
      "text/plain": [
       "   officer_yob     frisk  officer_age  has_weapon\n",
       "0     0.934555 -0.538593    -0.669853   -0.247972\n",
       "1    -1.455938 -0.538593     1.459896   -0.247972\n",
       "2    -1.455938 -0.538593     1.341577   -0.247972\n",
       "3    -0.089942 -0.538593    -0.196575   -0.247972\n",
       "4    -1.569771 -0.538593     1.814854   -0.247972"
      ]
     },
     "execution_count": 26,
     "metadata": {},
     "output_type": "execute_result"
    }
   ],
   "source": [
    "# making X_train into a df\n",
    "X_train_df = pd.DataFrame(scaled_X_train, columns=columns)\n",
    "X_train_df.head()"
   ]
  },
  {
   "cell_type": "code",
   "execution_count": 27,
   "metadata": {},
   "outputs": [],
   "source": [
    "# combining normalized train data and categorical data\n",
    "X_train = pd.concat([pd.DataFrame(scaled_X_train, columns=columns), cat_train_df], axis=1)\n",
    "X_test = pd.concat([pd.DataFrame(scaled_X_test, columns=columns), cat_test_df], axis=1)"
   ]
  },
  {
   "cell_type": "code",
   "execution_count": 28,
   "metadata": {},
   "outputs": [
    {
     "data": {
      "text/html": [
       "<div>\n",
       "<style scoped>\n",
       "    .dataframe tbody tr th:only-of-type {\n",
       "        vertical-align: middle;\n",
       "    }\n",
       "\n",
       "    .dataframe tbody tr th {\n",
       "        vertical-align: top;\n",
       "    }\n",
       "\n",
       "    .dataframe thead th {\n",
       "        text-align: right;\n",
       "    }\n",
       "</style>\n",
       "<table border=\"1\" class=\"dataframe\">\n",
       "  <thead>\n",
       "    <tr style=\"text-align: right;\">\n",
       "      <th></th>\n",
       "      <th>officer_yob</th>\n",
       "      <th>frisk</th>\n",
       "      <th>officer_age</th>\n",
       "      <th>has_weapon</th>\n",
       "      <th>subject_age_1 - 17</th>\n",
       "      <th>subject_age_18 - 25</th>\n",
       "      <th>subject_age_26 - 35</th>\n",
       "      <th>subject_age_36 - 45</th>\n",
       "      <th>subject_age_46 - 55</th>\n",
       "      <th>subject_age_56 and Above</th>\n",
       "      <th>...</th>\n",
       "      <th>officer_race_American Indian/Alaska Native</th>\n",
       "      <th>officer_race_Asian</th>\n",
       "      <th>officer_race_Black or African American</th>\n",
       "      <th>officer_race_Hispanic or Latino</th>\n",
       "      <th>officer_race_Nat Hawaiian/Oth Pac Islander</th>\n",
       "      <th>officer_race_Not Specified</th>\n",
       "      <th>officer_race_Two or More Races</th>\n",
       "      <th>officer_race_White</th>\n",
       "      <th>officer_gender_F</th>\n",
       "      <th>officer_gender_M</th>\n",
       "    </tr>\n",
       "  </thead>\n",
       "  <tbody>\n",
       "    <tr>\n",
       "      <th>0</th>\n",
       "      <td>1.162221</td>\n",
       "      <td>-0.538593</td>\n",
       "      <td>-1.024811</td>\n",
       "      <td>-0.247972</td>\n",
       "      <td>0.0</td>\n",
       "      <td>0.0</td>\n",
       "      <td>0.0</td>\n",
       "      <td>0.0</td>\n",
       "      <td>0.0</td>\n",
       "      <td>1.0</td>\n",
       "      <td>...</td>\n",
       "      <td>0.0</td>\n",
       "      <td>0.0</td>\n",
       "      <td>0.0</td>\n",
       "      <td>0.0</td>\n",
       "      <td>0.0</td>\n",
       "      <td>0.0</td>\n",
       "      <td>0.0</td>\n",
       "      <td>1.0</td>\n",
       "      <td>0.0</td>\n",
       "      <td>1.0</td>\n",
       "    </tr>\n",
       "    <tr>\n",
       "      <th>1</th>\n",
       "      <td>-1.114439</td>\n",
       "      <td>-0.538593</td>\n",
       "      <td>1.459896</td>\n",
       "      <td>-0.247972</td>\n",
       "      <td>0.0</td>\n",
       "      <td>0.0</td>\n",
       "      <td>1.0</td>\n",
       "      <td>0.0</td>\n",
       "      <td>0.0</td>\n",
       "      <td>0.0</td>\n",
       "      <td>...</td>\n",
       "      <td>0.0</td>\n",
       "      <td>0.0</td>\n",
       "      <td>0.0</td>\n",
       "      <td>0.0</td>\n",
       "      <td>0.0</td>\n",
       "      <td>1.0</td>\n",
       "      <td>0.0</td>\n",
       "      <td>0.0</td>\n",
       "      <td>0.0</td>\n",
       "      <td>1.0</td>\n",
       "    </tr>\n",
       "    <tr>\n",
       "      <th>2</th>\n",
       "      <td>0.706889</td>\n",
       "      <td>1.856690</td>\n",
       "      <td>-0.669853</td>\n",
       "      <td>-0.247972</td>\n",
       "      <td>0.0</td>\n",
       "      <td>0.0</td>\n",
       "      <td>1.0</td>\n",
       "      <td>0.0</td>\n",
       "      <td>0.0</td>\n",
       "      <td>0.0</td>\n",
       "      <td>...</td>\n",
       "      <td>0.0</td>\n",
       "      <td>0.0</td>\n",
       "      <td>0.0</td>\n",
       "      <td>0.0</td>\n",
       "      <td>0.0</td>\n",
       "      <td>0.0</td>\n",
       "      <td>0.0</td>\n",
       "      <td>1.0</td>\n",
       "      <td>0.0</td>\n",
       "      <td>1.0</td>\n",
       "    </tr>\n",
       "    <tr>\n",
       "      <th>3</th>\n",
       "      <td>0.593056</td>\n",
       "      <td>1.856690</td>\n",
       "      <td>-0.906491</td>\n",
       "      <td>-0.247972</td>\n",
       "      <td>0.0</td>\n",
       "      <td>0.0</td>\n",
       "      <td>1.0</td>\n",
       "      <td>0.0</td>\n",
       "      <td>0.0</td>\n",
       "      <td>0.0</td>\n",
       "      <td>...</td>\n",
       "      <td>0.0</td>\n",
       "      <td>0.0</td>\n",
       "      <td>0.0</td>\n",
       "      <td>0.0</td>\n",
       "      <td>0.0</td>\n",
       "      <td>0.0</td>\n",
       "      <td>0.0</td>\n",
       "      <td>1.0</td>\n",
       "      <td>0.0</td>\n",
       "      <td>1.0</td>\n",
       "    </tr>\n",
       "    <tr>\n",
       "      <th>4</th>\n",
       "      <td>-0.431441</td>\n",
       "      <td>-0.538593</td>\n",
       "      <td>0.631661</td>\n",
       "      <td>-0.247972</td>\n",
       "      <td>0.0</td>\n",
       "      <td>0.0</td>\n",
       "      <td>1.0</td>\n",
       "      <td>0.0</td>\n",
       "      <td>0.0</td>\n",
       "      <td>0.0</td>\n",
       "      <td>...</td>\n",
       "      <td>0.0</td>\n",
       "      <td>0.0</td>\n",
       "      <td>0.0</td>\n",
       "      <td>0.0</td>\n",
       "      <td>0.0</td>\n",
       "      <td>0.0</td>\n",
       "      <td>0.0</td>\n",
       "      <td>1.0</td>\n",
       "      <td>0.0</td>\n",
       "      <td>1.0</td>\n",
       "    </tr>\n",
       "  </tbody>\n",
       "</table>\n",
       "<p>5 rows × 56 columns</p>\n",
       "</div>"
      ],
      "text/plain": [
       "   officer_yob     frisk  officer_age  has_weapon  subject_age_1 - 17  \\\n",
       "0     1.162221 -0.538593    -1.024811   -0.247972                 0.0   \n",
       "1    -1.114439 -0.538593     1.459896   -0.247972                 0.0   \n",
       "2     0.706889  1.856690    -0.669853   -0.247972                 0.0   \n",
       "3     0.593056  1.856690    -0.906491   -0.247972                 0.0   \n",
       "4    -0.431441 -0.538593     0.631661   -0.247972                 0.0   \n",
       "\n",
       "   subject_age_18 - 25  subject_age_26 - 35  subject_age_36 - 45  \\\n",
       "0                  0.0                  0.0                  0.0   \n",
       "1                  0.0                  1.0                  0.0   \n",
       "2                  0.0                  1.0                  0.0   \n",
       "3                  0.0                  1.0                  0.0   \n",
       "4                  0.0                  1.0                  0.0   \n",
       "\n",
       "   subject_age_46 - 55  subject_age_56 and Above  ...  \\\n",
       "0                  0.0                       1.0  ...   \n",
       "1                  0.0                       0.0  ...   \n",
       "2                  0.0                       0.0  ...   \n",
       "3                  0.0                       0.0  ...   \n",
       "4                  0.0                       0.0  ...   \n",
       "\n",
       "   officer_race_American Indian/Alaska Native  officer_race_Asian  \\\n",
       "0                                         0.0                 0.0   \n",
       "1                                         0.0                 0.0   \n",
       "2                                         0.0                 0.0   \n",
       "3                                         0.0                 0.0   \n",
       "4                                         0.0                 0.0   \n",
       "\n",
       "   officer_race_Black or African American  officer_race_Hispanic or Latino  \\\n",
       "0                                     0.0                              0.0   \n",
       "1                                     0.0                              0.0   \n",
       "2                                     0.0                              0.0   \n",
       "3                                     0.0                              0.0   \n",
       "4                                     0.0                              0.0   \n",
       "\n",
       "   officer_race_Nat Hawaiian/Oth Pac Islander  officer_race_Not Specified  \\\n",
       "0                                         0.0                         0.0   \n",
       "1                                         0.0                         1.0   \n",
       "2                                         0.0                         0.0   \n",
       "3                                         0.0                         0.0   \n",
       "4                                         0.0                         0.0   \n",
       "\n",
       "   officer_race_Two or More Races  officer_race_White  officer_gender_F  \\\n",
       "0                             0.0                 1.0               0.0   \n",
       "1                             0.0                 0.0               0.0   \n",
       "2                             0.0                 1.0               0.0   \n",
       "3                             0.0                 1.0               0.0   \n",
       "4                             0.0                 1.0               0.0   \n",
       "\n",
       "   officer_gender_M  \n",
       "0               1.0  \n",
       "1               1.0  \n",
       "2               1.0  \n",
       "3               1.0  \n",
       "4               1.0  \n",
       "\n",
       "[5 rows x 56 columns]"
      ]
     },
     "execution_count": 28,
     "metadata": {},
     "output_type": "execute_result"
    }
   ],
   "source": [
    "X_test.head()"
   ]
  },
  {
   "cell_type": "code",
   "execution_count": 29,
   "metadata": {},
   "outputs": [
    {
     "name": "stdout",
     "output_type": "stream",
     "text": [
      "0    31250\n",
      "1     1998\n",
      "Name: arrest, dtype: int64\n",
      "\n",
      "\n",
      "1    31250\n",
      "0    31250\n",
      "Name: arrest, dtype: int64\n"
     ]
    }
   ],
   "source": [
    "# Using SMOTE to address class imbalance\n",
    "\n",
    "# check for class imbalance\n",
    "print(y_train.value_counts()) \n",
    "\n",
    "# Fit SMOTE to training data\n",
    "smote = SMOTE()\n",
    "X_train_resampled, y_train_resampled = smote.fit_sample(X_train, y_train) \n",
    "\n",
    "# Preview synthetic sample class distribution\n",
    "print('\\n')\n",
    "print(pd.Series(y_train_resampled).value_counts()) "
   ]
  },
  {
   "cell_type": "markdown",
   "metadata": {},
   "source": [
    "*** \n",
    "## Modeling Using Ensemble Methods\n",
    "I will use four different ensemble methods for modeling which include KNeighborsClassifier(), RandomForestClassifier(), AdaBoostClassifier(), and GradientBoostingClassifier(). I will use a pipeline to simplify the process"
   ]
  },
  {
   "cell_type": "markdown",
   "metadata": {},
   "source": [
    "#### Creating A Pipeline"
   ]
  },
  {
   "cell_type": "code",
   "execution_count": 30,
   "metadata": {},
   "outputs": [],
   "source": [
    "# list of classifiers\n",
    "clfs = [KNeighborsClassifier(), \n",
    "               RandomForestClassifier(), AdaBoostClassifier(), \n",
    "              GradientBoostingClassifier()]"
   ]
  },
  {
   "cell_type": "code",
   "execution_count": 31,
   "metadata": {},
   "outputs": [],
   "source": [
    "# created a function to determine metrics\n",
    "def print_metrics(labels, preds):\n",
    "    print(\"Precision Score: {}\".format(precision_score(labels, preds)))\n",
    "    print(\"Recall Score: {}\".format(recall_score(labels, preds)))\n",
    "    print(\"Accuracy Score: {}\".format(accuracy_score(labels, preds)))\n",
    "    print(\"F1 Score: {}\".format(f1_score(labels, preds)))"
   ]
  },
  {
   "cell_type": "code",
   "execution_count": 32,
   "metadata": {},
   "outputs": [
    {
     "name": "stdout",
     "output_type": "stream",
     "text": [
      "KNeighborsClassifier()\n",
      "Model Score: 0.931\n",
      "RandomForestClassifier()\n",
      "Model Score: 0.971\n",
      "AdaBoostClassifier()\n",
      "Model Score: 0.902\n",
      "GradientBoostingClassifier()\n",
      "Model Score: 0.945\n"
     ]
    }
   ],
   "source": [
    "# create a four loop to run pipeline thru classifiers list\n",
    "for clf in clfs:\n",
    "    pipe = Pipeline(steps=[('clf', clf)])\n",
    "    pipe.fit(X_train_resampled, y_train_resampled)\n",
    "    print(clf)\n",
    "    print('Model Score: %.3f' %pipe.score(X_test, y_test))"
   ]
  },
  {
   "cell_type": "markdown",
   "metadata": {},
   "source": [
    "Model scores look good! However they can be imporved using GridSearchCV by determining the best combination of parameters for a given model. Grid Search works by training a model on the data for each unique combination of parameters and then returning the parameters of the model that performed best."
   ]
  },
  {
   "cell_type": "markdown",
   "metadata": {},
   "source": [
    "#### GridSearchCV"
   ]
  },
  {
   "cell_type": "code",
   "execution_count": 33,
   "metadata": {},
   "outputs": [],
   "source": [
    "# first make a dictionary with parameters to tune\n",
    "param_grid = {\"clf__n_estimators\": [5, 10],\n",
    "              \"clf__min_samples_leaf\": [0.10, 1]}"
   ]
  },
  {
   "cell_type": "code",
   "execution_count": 34,
   "metadata": {},
   "outputs": [],
   "source": [
    "# instantiate GridSearchCV\n",
    "grid_search = GridSearchCV(estimator=pipe, param_grid=param_grid, \n",
    "                          scoring='accuracy', verbose=1, n_jobs=-1, cv=5, return_train_score=False)"
   ]
  },
  {
   "cell_type": "code",
   "execution_count": 35,
   "metadata": {},
   "outputs": [
    {
     "name": "stdout",
     "output_type": "stream",
     "text": [
      "Fitting 5 folds for each of 4 candidates, totalling 20 fits\n"
     ]
    },
    {
     "name": "stderr",
     "output_type": "stream",
     "text": [
      "[Parallel(n_jobs=-1)]: Using backend LokyBackend with 4 concurrent workers.\n",
      "[Parallel(n_jobs=-1)]: Done  20 out of  20 | elapsed:   14.8s finished\n"
     ]
    },
    {
     "data": {
      "text/plain": [
       "GridSearchCV(cv=5,\n",
       "             estimator=Pipeline(steps=[('clf', GradientBoostingClassifier())]),\n",
       "             n_jobs=-1,\n",
       "             param_grid={'clf__min_samples_leaf': [0.1, 1],\n",
       "                         'clf__n_estimators': [5, 10]},\n",
       "             scoring='accuracy', verbose=1)"
      ]
     },
     "execution_count": 35,
     "metadata": {},
     "output_type": "execute_result"
    }
   ],
   "source": [
    "# fit to the data\n",
    "grid_search.fit(X_train_resampled, y_train_resampled)"
   ]
  },
  {
   "cell_type": "code",
   "execution_count": 36,
   "metadata": {},
   "outputs": [
    {
     "data": {
      "text/plain": [
       "{'clf__min_samples_leaf': 1, 'clf__n_estimators': 10}"
      ]
     },
     "execution_count": 36,
     "metadata": {},
     "output_type": "execute_result"
    }
   ],
   "source": [
    "# find best parameters for the model\n",
    "grid_search.best_params_"
   ]
  },
  {
   "cell_type": "code",
   "execution_count": 37,
   "metadata": {},
   "outputs": [
    {
     "data": {
      "text/plain": [
       "Pipeline(steps=[('clf', GradientBoostingClassifier(n_estimators=10))])"
      ]
     },
     "execution_count": 37,
     "metadata": {},
     "output_type": "execute_result"
    }
   ],
   "source": [
    "# find best estimator \n",
    "grid_search.best_estimator_"
   ]
  },
  {
   "cell_type": "code",
   "execution_count": 38,
   "metadata": {},
   "outputs": [
    {
     "data": {
      "text/plain": [
       "0.9151999999999999"
      ]
     },
     "execution_count": 38,
     "metadata": {},
     "output_type": "execute_result"
    }
   ],
   "source": [
    "grid_search.best_score_"
   ]
  },
  {
   "cell_type": "markdown",
   "metadata": {},
   "source": [
    "#### Create a custom classfier using BaseEstimator\n",
    "I will use sklearn's BaseEstimator with ClfSwitcher to pass any classifier and parameters for each classifer"
   ]
  },
  {
   "cell_type": "code",
   "execution_count": 39,
   "metadata": {},
   "outputs": [],
   "source": [
    "from sklearn.base import BaseEstimator\n",
    "class ClfSwitcher(BaseEstimator):\n",
    "    def __init__(self, estimator = None ):\n",
    "\n",
    "        self.estimator = estimator\n",
    "\n",
    "\n",
    "    def fit(self, X, y=None, **kwargs):\n",
    "        self.estimator.fit(X, y)\n",
    "        return self\n",
    "\n",
    "\n",
    "    def predict(self, X, y=None):\n",
    "        return self.estimator.predict(X)\n",
    "\n",
    "\n",
    "    def predict_prob(self, X):\n",
    "        return self.estimator.predict_prob(X)\n",
    "\n",
    "\n",
    "    def score(self, X, y):\n",
    "        return self.estimator.score(X, y)"
   ]
  },
  {
   "cell_type": "code",
   "execution_count": 40,
   "metadata": {},
   "outputs": [],
   "source": [
    "# create another pipeline with ClfSwitcher\n",
    "clf_pipe = Pipeline([('clf', ClfSwitcher())])"
   ]
  },
  {
   "cell_type": "code",
   "execution_count": 41,
   "metadata": {},
   "outputs": [],
   "source": [
    "# make dictionary with parameters\n",
    "params = [\n",
    "{\n",
    "    'clf__estimator': [KNeighborsClassifier()],\n",
    "    'clf__estimator__n_neighbors': [3, 5],\n",
    "    'clf__estimator__weights': ['uniform', 'distance']\n",
    "},\n",
    "{   'clf__estimator': [RandomForestClassifier()],\n",
    "    'clf__estimator__criterion': ['gini', 'entropy'],\n",
    "    'clf__estimator__min_samples_split': [2, 5], \n",
    "    'clf__estimator__max_depth': [3, 5]\n",
    "},  \n",
    "{   'clf__estimator': [AdaBoostClassifier()],\n",
    "    'clf__estimator__n_estimators': [2, 4]\n",
    "},\n",
    "{   'clf__estimator': [GradientBoostingClassifier()],\n",
    "    'clf__estimator__min_samples_leaf': [1, 3] \n",
    "}\n",
    "]"
   ]
  },
  {
   "cell_type": "code",
   "execution_count": 42,
   "metadata": {},
   "outputs": [],
   "source": [
    "# create another GridSearchCV instance\n",
    "grid_search_2 = GridSearchCV(clf_pipe, param_grid=params, n_jobs=-1, verbose=1, cv=3)"
   ]
  },
  {
   "cell_type": "code",
   "execution_count": 43,
   "metadata": {},
   "outputs": [
    {
     "name": "stdout",
     "output_type": "stream",
     "text": [
      "Fitting 3 folds for each of 16 candidates, totalling 48 fits\n"
     ]
    },
    {
     "name": "stderr",
     "output_type": "stream",
     "text": [
      "[Parallel(n_jobs=-1)]: Using backend LokyBackend with 4 concurrent workers.\n",
      "[Parallel(n_jobs=-1)]: Done  48 out of  48 | elapsed:  2.9min finished\n"
     ]
    },
    {
     "data": {
      "text/plain": [
       "GridSearchCV(cv=3, estimator=Pipeline(steps=[('clf', ClfSwitcher())]),\n",
       "             n_jobs=-1,\n",
       "             param_grid=[{'clf__estimator': [KNeighborsClassifier()],\n",
       "                          'clf__estimator__n_neighbors': [3, 5],\n",
       "                          'clf__estimator__weights': ['uniform', 'distance']},\n",
       "                         {'clf__estimator': [RandomForestClassifier()],\n",
       "                          'clf__estimator__criterion': ['gini', 'entropy'],\n",
       "                          'clf__estimator__max_depth': [3, 5],\n",
       "                          'clf__estimator__min_samples_split': [2, 5]},\n",
       "                         {'clf__estimator': [AdaBoostClassifier()],\n",
       "                          'clf__estimator__n_estimators': [2, 4]},\n",
       "                         {'clf__estimator': [GradientBoostingClassifier()],\n",
       "                          'clf__estimator__min_samples_leaf': [1, 3]}],\n",
       "             verbose=1)"
      ]
     },
     "execution_count": 43,
     "metadata": {},
     "output_type": "execute_result"
    }
   ],
   "source": [
    "# fit the models\n",
    "grid_search_2.fit(X_train_resampled, y_train_resampled) "
   ]
  },
  {
   "cell_type": "code",
   "execution_count": 44,
   "metadata": {},
   "outputs": [],
   "source": [
    "# find best estimator\n",
    "best_pipe = grid_search_2.best_estimator_"
   ]
  },
  {
   "cell_type": "code",
   "execution_count": 45,
   "metadata": {
    "scrolled": true
   },
   "outputs": [
    {
     "data": {
      "text/plain": [
       "ClfSwitcher(estimator=GradientBoostingClassifier())"
      ]
     },
     "execution_count": 45,
     "metadata": {},
     "output_type": "execute_result"
    }
   ],
   "source": [
    "# find best model using best estimator\n",
    "best_pipe['clf']"
   ]
  },
  {
   "cell_type": "markdown",
   "metadata": {},
   "source": [
    "***\n",
    "## Looking at model scores"
   ]
  },
  {
   "cell_type": "code",
   "execution_count": 46,
   "metadata": {},
   "outputs": [
    {
     "data": {
      "text/plain": [
       "0.970208"
      ]
     },
     "execution_count": 46,
     "metadata": {},
     "output_type": "execute_result"
    }
   ],
   "source": [
    "# .score() returns acuracy score which is calculated by comparing X_train_resampled, y_train_resampled\n",
    "best_pipe.score(X_train_resampled, y_train_resampled)"
   ]
  },
  {
   "cell_type": "code",
   "execution_count": 47,
   "metadata": {},
   "outputs": [
    {
     "data": {
      "text/plain": [
       "0.9454118920869801"
      ]
     },
     "execution_count": 47,
     "metadata": {},
     "output_type": "execute_result"
    }
   ],
   "source": [
    "# .score() returns acuracy score which is calculated by comparing X_test, y_test\n",
    "best_pipe.score(X_test, y_test)"
   ]
  },
  {
   "cell_type": "markdown",
   "metadata": {},
   "source": [
    "***\n",
    "## Working with GradientBoostingClassifier( )\n",
    "Above, I determined the best classifer in termns of performance to be GradientBoostingClassifier(). I found this by creating a gridsearch and using the .best_estimator_ method. I will now use this GradientBoostingClassifier() to model the data"
   ]
  },
  {
   "cell_type": "code",
   "execution_count": 48,
   "metadata": {},
   "outputs": [],
   "source": [
    "# instantiate classifier\n",
    "model = GradientBoostingClassifier()"
   ]
  },
  {
   "cell_type": "code",
   "execution_count": 49,
   "metadata": {},
   "outputs": [
    {
     "data": {
      "text/plain": [
       "GradientBoostingClassifier()"
      ]
     },
     "execution_count": 49,
     "metadata": {},
     "output_type": "execute_result"
    }
   ],
   "source": [
    "# fit the model to data\n",
    "model.fit(X_train_resampled, y_train_resampled)"
   ]
  },
  {
   "cell_type": "code",
   "execution_count": 50,
   "metadata": {},
   "outputs": [],
   "source": [
    "# find probability scores for data points in X_train_resampled \n",
    "y_score = model.decision_function(X_train_resampled)"
   ]
  },
  {
   "cell_type": "code",
   "execution_count": 51,
   "metadata": {},
   "outputs": [],
   "source": [
    "# make predictions\n",
    "y_preds = model.predict(X_test)"
   ]
  },
  {
   "cell_type": "markdown",
   "metadata": {},
   "source": [
    "I want to create confusion matrices, ROC curves, and AUC to determine to do that I must determine fpr (false positive rate), tpr (true positive rate), and thresholds for both testing and training data.\n"
   ]
  },
  {
   "cell_type": "markdown",
   "metadata": {},
   "source": [
    "#### Train data"
   ]
  },
  {
   "cell_type": "code",
   "execution_count": 52,
   "metadata": {},
   "outputs": [],
   "source": [
    "# calculating fpr, tpr, and thresholds for ROC curve training data and training preds\n",
    "\n",
    "# The Receiver Operator Characteristic curve (ROC curve) illustrates the true positive rate against \n",
    "# the false positive rate of our classifier. \n",
    "\n",
    "# Scikit-learn's built in roc_curve method returns the fpr, tpr, and thresholds\n",
    "# for various decision boundaries given the case member probabilites\n",
    "\n",
    "fpr, tpr, thresholds = roc_curve(y_train_resampled, y_score)"
   ]
  },
  {
   "cell_type": "code",
   "execution_count": 53,
   "metadata": {},
   "outputs": [
    {
     "name": "stdout",
     "output_type": "stream",
     "text": [
      "Train AUC: 0.9980387174400001\n"
     ]
    }
   ],
   "source": [
    "# calculate ROC AUC\n",
    "print('Train AUC: {}'.format(auc(fpr, tpr)))"
   ]
  },
  {
   "cell_type": "markdown",
   "metadata": {},
   "source": [
    "#### Test data"
   ]
  },
  {
   "cell_type": "code",
   "execution_count": 54,
   "metadata": {},
   "outputs": [],
   "source": [
    "# calculating fpr, tpr, and thresholds for ROC curve of testing data and testing preds\n",
    "f_p_r, t_p_r, thresh = roc_curve(y_test, y_preds)"
   ]
  },
  {
   "cell_type": "code",
   "execution_count": 55,
   "metadata": {},
   "outputs": [
    {
     "name": "stdout",
     "output_type": "stream",
     "text": [
      "Test Root Mean Square Error 0.23364098080820483\n"
     ]
    }
   ],
   "source": [
    "# find mean root square error \n",
    "print('Test Root Mean Square Error', np.sqrt(mean_squared_error(y_test, y_preds)))"
   ]
  },
  {
   "cell_type": "code",
   "execution_count": 56,
   "metadata": {},
   "outputs": [
    {
     "name": "stdout",
     "output_type": "stream",
     "text": [
      "Test AUC: 0.9695658232089466\n"
     ]
    }
   ],
   "source": [
    "# calculate ROC AUC\n",
    "print('Test AUC: {}'.format(auc(f_p_r, t_p_r)))"
   ]
  },
  {
   "cell_type": "markdown",
   "metadata": {},
   "source": [
    "#### Making ROC Curves for Testing Data"
   ]
  },
  {
   "cell_type": "code",
   "execution_count": 57,
   "metadata": {},
   "outputs": [
    {
     "name": "stdout",
     "output_type": "stream",
     "text": [
      "AUC: 0.9695658232089466\n"
     ]
    },
    {
     "data": {
      "image/png": "[encoded data removed]",
      "text/plain": [
       "<Figure size 720x576 with 1 Axes>"
      ]
     },
     "metadata": {},
     "output_type": "display_data"
    }
   ],
   "source": [
    "# The ROC curve gives us a graph of the tradeoff between this false positive and true positive rate.\n",
    "# The AUC, or area under the curve, gives us a singular metric to compare these.\n",
    "# An AUC of 1 being a perfect classifier, and an AUC of 0.5 being that which has a precision of 50%.\n",
    "\n",
    "sns.set_style('darkgrid', {'axes.facecolor': '0.9'})\n",
    "\n",
    "print('AUC: {}'.format(auc(f_p_r, t_p_r)))\n",
    "plt.figure(figsize=(10, 8))\n",
    "lw = 2\n",
    "plt.plot(fpr, tpr, color='darkorange',\n",
    "         lw=lw, label='ROC curve')\n",
    "plt.plot([0, 1], [0, 1], color='navy', lw=lw, linestyle='--')\n",
    "plt.xlim([0.0, 1.0])\n",
    "plt.ylim([0.0, 1.05])\n",
    "plt.yticks([i/20.0 for i in range(21)])\n",
    "plt.xticks([i/20.0 for i in range(21)])\n",
    "plt.xlabel('False Positive Rate')\n",
    "plt.ylabel('True Positive Rate')\n",
    "plt.title('Receiver operating characteristic (ROC) Curve for Testing Data')\n",
    "plt.legend(loc='lower right')\n",
    "plt.show()"
   ]
  },
  {
   "cell_type": "markdown",
   "metadata": {},
   "source": [
    "#### Confusion Matrix\n",
    "The confusion matrix represents the counts (or normalized counts) of our True Positives, False Positives, True Negatives, and False Negatives. Confusion matrices are a very handy tool to help us quickly understand how well a classification model is performing. "
   ]
  },
  {
   "cell_type": "code",
   "execution_count": 58,
   "metadata": {},
   "outputs": [
    {
     "data": {
      "text/plain": [
       "array([[9838,  603],\n",
       "       [   2,  640]])"
      ]
     },
     "execution_count": 58,
     "metadata": {},
     "output_type": "execute_result"
    }
   ],
   "source": [
    "# Create a confusion matrix for testing dataset\n",
    "cf = confusion_matrix(y_test, y_preds)\n",
    "cf"
   ]
  },
  {
   "cell_type": "code",
   "execution_count": 59,
   "metadata": {},
   "outputs": [
    {
     "name": "stdout",
     "output_type": "stream",
     "text": [
      "              precision    recall  f1-score   support\n",
      "\n",
      "           0       1.00      0.94      0.97     10441\n",
      "           1       0.51      1.00      0.68       642\n",
      "\n",
      "    accuracy                           0.95     11083\n",
      "   macro avg       0.76      0.97      0.82     11083\n",
      "weighted avg       0.97      0.95      0.95     11083\n",
      "\n"
     ]
    }
   ],
   "source": [
    "# Create a classification report to display evaluation metrics\n",
    "print(classification_report(y_test, y_preds))"
   ]
  },
  {
   "cell_type": "code",
   "execution_count": 60,
   "metadata": {},
   "outputs": [
    {
     "data": {
      "text/plain": [
       "{'TP': 640, 'TN': 9838, 'FP': 603, 'FN': 2}"
      ]
     },
     "execution_count": 60,
     "metadata": {},
     "output_type": "execute_result"
    }
   ],
   "source": [
    "def conf_matrix(y_true, y_pred):\n",
    "    cm = {'TP': 0, 'TN': 0, 'FP': 0, 'FN': 0}\n",
    "    \n",
    "    for ind, label in enumerate(y_true):\n",
    "        pred = y_pred[ind]\n",
    "        if label == 1:\n",
    "            # CASE: TP \n",
    "            if label == pred:\n",
    "                cm['TP'] += 1\n",
    "            # CASE: FN\n",
    "            else:\n",
    "                cm['FN'] += 1\n",
    "        else:\n",
    "            # CASE: TN\n",
    "            if label == pred:\n",
    "                cm['TN'] += 1\n",
    "            # CASE: FP\n",
    "            else:\n",
    "                cm['FP'] += 1\n",
    "    return cm\n",
    "\n",
    "conf_matrix(y_test, y_preds)"
   ]
  },
  {
   "cell_type": "code",
   "execution_count": 61,
   "metadata": {},
   "outputs": [
    {
     "data": {
      "image/png": "[encoded data removed]",
      "text/plain": [
       "<Figure size 432x288 with 2 Axes>"
      ]
     },
     "metadata": {},
     "output_type": "display_data"
    }
   ],
   "source": [
    "# Plot confusion matrix\n",
    "plt.imshow(cf,  cmap=plt.cm.Blues) \n",
    "\n",
    "# Add titles \n",
    "plt.title('Confusion Matrix')\n",
    "plt.ylabel('True label')\n",
    "plt.xlabel('Predicted label')\n",
    "\n",
    "# scale axis'\n",
    "class_names = set(y) \n",
    "tick_marks = np.arange(len(class_names))\n",
    "plt.xticks(tick_marks, class_names, rotation=45)\n",
    "plt.yticks(tick_marks, class_names)\n",
    "\n",
    "\n",
    "thresh = cf.max() / 2. \n",
    "\n",
    "for i, j in itertools.product(range(cf.shape[0]), range(cf.shape[1])):\n",
    "        plt.text(j, i, cf[i, j],\n",
    "                 horizontalalignment='center',\n",
    "                 color='white' if cf[i, j] > thresh else 'black')\n",
    "\n",
    "plt.colorbar()\n",
    "plt.show()"
   ]
  },
  {
   "cell_type": "markdown",
   "metadata": {},
   "source": [
    "I have a lot False Negatives.. "
   ]
  },
  {
   "cell_type": "markdown",
   "metadata": {},
   "source": [
    "#### Plotting Model Performance"
   ]
  },
  {
   "cell_type": "code",
   "execution_count": 62,
   "metadata": {},
   "outputs": [
    {
     "data": {
      "image/png": "[encoded data removed]",
      "text/plain": [
       "<Figure size 720x432 with 1 Axes>"
      ]
     },
     "metadata": {},
     "output_type": "display_data"
    }
   ],
   "source": [
    "plt.figure(figsize=(10, 6))\n",
    "plt.scatter(y_test, y_preds)\n",
    "plt.plot([0, 1.5], [0, 1.5], '--k') # Plot line of best fit\n",
    "plt.axis('tight') \n",
    "plt.title('Terry Stops Model Performance')\n",
    "plt.xlabel('Actual Arrests')\n",
    "plt.ylabel('Predicted Arrests')\n",
    "plt.tight_layout()"
   ]
  },
  {
   "cell_type": "markdown",
   "metadata": {},
   "source": [
    "***\n",
    "## Creating a Model Using Best Features"
   ]
  },
  {
   "cell_type": "code",
   "execution_count": 63,
   "metadata": {},
   "outputs": [
    {
     "data": {
      "text/plain": [
       "array([ 4.70101174e-02,  0.00000000e+00,  1.11030855e-01,  0.00000000e+00,\n",
       "        1.31546809e-04,  5.80001031e-04,  0.00000000e+00,  3.60330903e-07,\n",
       "        0.00000000e+00,  0.00000000e+00,  3.47465855e-04,  2.25038983e-13,\n",
       "        2.27792562e-09,  1.02070711e-02,  1.73583287e-03,  0.00000000e+00,\n",
       "        2.56211577e-05,  0.00000000e+00, -5.83461861e-16,  1.04650941e-04,\n",
       "        2.16700109e-04,  3.24445113e-05,  8.00934942e-01,  0.00000000e+00,\n",
       "        0.00000000e+00,  0.00000000e+00,  5.51005330e-07,  0.00000000e+00,\n",
       "        0.00000000e+00,  0.00000000e+00,  0.00000000e+00,  0.00000000e+00,\n",
       "        0.00000000e+00,  0.00000000e+00,  0.00000000e+00,  1.06656471e-04,\n",
       "        4.70551160e-05,  3.32018818e-03,  1.95855600e-02,  0.00000000e+00,\n",
       "        0.00000000e+00,  0.00000000e+00,  0.00000000e+00,  0.00000000e+00,\n",
       "        0.00000000e+00,  0.00000000e+00,  4.90477613e-04,  1.27332094e-05,\n",
       "        2.15089569e-04,  0.00000000e+00,  0.00000000e+00,  3.86407806e-03,\n",
       "        0.00000000e+00,  0.00000000e+00,  0.00000000e+00,  0.00000000e+00])"
      ]
     },
     "execution_count": 63,
     "metadata": {},
     "output_type": "execute_result"
    }
   ],
   "source": [
    "# find most important features\n",
    "model.feature_importances_"
   ]
  },
  {
   "cell_type": "code",
   "execution_count": 64,
   "metadata": {},
   "outputs": [],
   "source": [
    "# make a function to plot feature importances\n",
    "def plot_feat_importances(model, X_train):\n",
    "    feature_importances = model.feature_importances_\n",
    "    features = X_train.columns\n",
    "    plt.bar(features, feature_importances)\n",
    "    plt.xlabel(\"Features\")\n",
    "    plt.ylabel(\"Feature Importance Scores\")\n",
    "    plt.title(\"Feature Importances\")\n",
    "    plt.xticks(rotation=90)\n",
    "    plt.show()"
   ]
  },
  {
   "cell_type": "code",
   "execution_count": 65,
   "metadata": {},
   "outputs": [
    {
     "data": {
      "image/png": "[encoded data removed]",
      "text/plain": [
       "<Figure size 432x288 with 1 Axes>"
      ]
     },
     "metadata": {},
     "output_type": "display_data"
    }
   ],
   "source": [
    "plot_feat_importances(model=model, X_train=X_train)"
   ]
  },
  {
   "cell_type": "code",
   "execution_count": 66,
   "metadata": {},
   "outputs": [],
   "source": [
    "# Create a list of the best features\n",
    "feats = ['frisk', 'officer_yob', 'stop_resolution_Arrest']\n",
    "X_feat_train = X_train[feats]\n",
    "X_feat_test = X_test[feats]"
   ]
  },
  {
   "cell_type": "code",
   "execution_count": 67,
   "metadata": {},
   "outputs": [
    {
     "name": "stdout",
     "output_type": "stream",
     "text": [
      "0    31250\n",
      "1     1998\n",
      "Name: arrest, dtype: int64\n",
      "\n",
      "\n",
      "1    31250\n",
      "0    31250\n",
      "Name: arrest, dtype: int64\n"
     ]
    }
   ],
   "source": [
    "# check class imbalance\n",
    "print(y_train.value_counts())\n",
    "\n",
    "# Fit SMOTE to training data\n",
    "smote = SMOTE()\n",
    "X_feat_resampled, y_feat_resampled = smote.fit_sample(X_feat_train, y_train)\n",
    "\n",
    "print('\\n')\n",
    "print(pd.Series(y_feat_resampled).value_counts())"
   ]
  },
  {
   "cell_type": "code",
   "execution_count": 68,
   "metadata": {},
   "outputs": [
    {
     "data": {
      "text/plain": [
       "GradientBoostingClassifier()"
      ]
     },
     "execution_count": 68,
     "metadata": {},
     "output_type": "execute_result"
    }
   ],
   "source": [
    "# Fit model\n",
    "model.fit(X_feat_resampled, y_feat_resampled)"
   ]
  },
  {
   "cell_type": "code",
   "execution_count": 69,
   "metadata": {},
   "outputs": [],
   "source": [
    "# Make predictions\n",
    "y_pred_feat = model.predict(X_feat_test)"
   ]
  },
  {
   "cell_type": "markdown",
   "metadata": {},
   "source": [
    "***\n",
    "## Best Model Performance with Best Features"
   ]
  },
  {
   "cell_type": "code",
   "execution_count": 70,
   "metadata": {},
   "outputs": [
    {
     "data": {
      "text/plain": [
       "0.820265271135974"
      ]
     },
     "execution_count": 70,
     "metadata": {},
     "output_type": "execute_result"
    }
   ],
   "source": [
    "model.score(X_feat_test, y_test)"
   ]
  },
  {
   "cell_type": "code",
   "execution_count": 71,
   "metadata": {},
   "outputs": [
    {
     "name": "stdout",
     "output_type": "stream",
     "text": [
      "Test Root Mean Square Error 0.4239513284140362\n",
      "Test AUC: 0.9009521980951563\n"
     ]
    }
   ],
   "source": [
    "# calculating fpr, tpr, and thresholds for ROC curve of testing data and testing preds\n",
    "fpr, tpr, thresholds = roc_curve(y_test, y_pred_feat)\n",
    "\n",
    "# find mean root square error \n",
    "print('Test Root Mean Square Error', np.sqrt(mean_squared_error(y_test, y_pred_feat)))\n",
    "\n",
    "# calculate ROC AUC\n",
    "print('Test AUC: {}'.format(auc(fpr, tpr)))"
   ]
  },
  {
   "cell_type": "markdown",
   "metadata": {},
   "source": [
    "#### Create ROC Curve"
   ]
  },
  {
   "cell_type": "code",
   "execution_count": 72,
   "metadata": {},
   "outputs": [
    {
     "name": "stdout",
     "output_type": "stream",
     "text": [
      "AUC: 0.9009521980951563\n"
     ]
    },
    {
     "data": {
      "image/png": "[encoded data removed]",
      "text/plain": [
       "<Figure size 720x576 with 1 Axes>"
      ]
     },
     "metadata": {},
     "output_type": "display_data"
    }
   ],
   "source": [
    "# The ROC curve gives us a graph of the tradeoff between this false positive and true positive rate.\n",
    "# The AUC, or area under the curve, gives us a singular metric to compare these.\n",
    "# An AUC of 1 being a perfect classifier, and an AUC of 0.5 being that which has a precision of 50%.\n",
    "\n",
    "sns.set_style('darkgrid', {'axes.facecolor': '0.9'})\n",
    "\n",
    "print('AUC: {}'.format(auc(fpr, tpr)))\n",
    "plt.figure(figsize=(10, 8))\n",
    "lw = 2\n",
    "plt.plot(fpr, tpr, color='darkorange',\n",
    "         lw=lw, label='ROC curve')\n",
    "plt.plot([0, 1], [0, 1], color='navy', lw=lw, linestyle='--')\n",
    "plt.xlim([0.0, 1.0])\n",
    "plt.ylim([0.0, 1.05])\n",
    "plt.yticks([i/20.0 for i in range(21)])\n",
    "plt.xticks([i/20.0 for i in range(21)])\n",
    "plt.xlabel('False Positive Rate')\n",
    "plt.ylabel('True Positive Rate')\n",
    "plt.title('Receiver operating characteristic (ROC) Curve for Testing Data')\n",
    "plt.legend(loc='lower right')\n",
    "plt.show()"
   ]
  },
  {
   "cell_type": "markdown",
   "metadata": {},
   "source": [
    "#### Create confusion matrix"
   ]
  },
  {
   "cell_type": "code",
   "execution_count": 73,
   "metadata": {},
   "outputs": [
    {
     "data": {
      "text/plain": [
       "array([[8454, 1987],\n",
       "       [   5,  637]])"
      ]
     },
     "execution_count": 73,
     "metadata": {},
     "output_type": "execute_result"
    }
   ],
   "source": [
    "# Create a confusion matrix for testing dataset\n",
    "cf = confusion_matrix(y_test, y_pred_feat)\n",
    "cf"
   ]
  },
  {
   "cell_type": "code",
   "execution_count": 74,
   "metadata": {},
   "outputs": [
    {
     "name": "stdout",
     "output_type": "stream",
     "text": [
      "              precision    recall  f1-score   support\n",
      "\n",
      "           0       1.00      0.81      0.89     10441\n",
      "           1       0.24      0.99      0.39       642\n",
      "\n",
      "    accuracy                           0.82     11083\n",
      "   macro avg       0.62      0.90      0.64     11083\n",
      "weighted avg       0.96      0.82      0.87     11083\n",
      "\n"
     ]
    }
   ],
   "source": [
    "# Create a classification report to display evaluation metrics\n",
    "print(classification_report(y_test, y_pred_feat))"
   ]
  },
  {
   "cell_type": "markdown",
   "metadata": {},
   "source": [
    "Precision went down :/"
   ]
  },
  {
   "cell_type": "markdown",
   "metadata": {},
   "source": [
    "#### Plot Model Performance"
   ]
  },
  {
   "cell_type": "code",
   "execution_count": 75,
   "metadata": {},
   "outputs": [
    {
     "data": {
      "image/png": "[encoded data removed]",
      "text/plain": [
       "<Figure size 720x432 with 1 Axes>"
      ]
     },
     "metadata": {},
     "output_type": "display_data"
    }
   ],
   "source": [
    "plt.figure(figsize=(10, 6))\n",
    "plt.scatter(y_test, y_pred_feat)\n",
    "plt.plot([0, 1.5], [0, 1.5], '--k') # Plot line of best fit\n",
    "plt.axis('tight') \n",
    "plt.title('Terry Stops Model Performance')\n",
    "plt.xlabel('Actual Arrests')\n",
    "plt.ylabel('Predicted Arrests')\n",
    "plt.tight_layout()"
   ]
  },
  {
   "cell_type": "markdown",
   "metadata": {},
   "source": [
    "## Model Performance of Imbalanced Data\n",
    "The data has not been balanced with SMOTE( )"
   ]
  },
  {
   "cell_type": "code",
   "execution_count": 76,
   "metadata": {},
   "outputs": [],
   "source": [
    "# create classifier instance\n",
    "nonsmote_model = GradientBoostingClassifier()"
   ]
  },
  {
   "cell_type": "code",
   "execution_count": 77,
   "metadata": {},
   "outputs": [
    {
     "data": {
      "text/plain": [
       "GradientBoostingClassifier()"
      ]
     },
     "execution_count": 77,
     "metadata": {},
     "output_type": "execute_result"
    }
   ],
   "source": [
    "# fit the model\n",
    "nonsmote_model.fit(X_train, y_train)"
   ]
  },
  {
   "cell_type": "code",
   "execution_count": 78,
   "metadata": {},
   "outputs": [],
   "source": [
    "# make predictions\n",
    "nonsmote_ypred = nonsmote_model.predict(X_test)"
   ]
  },
  {
   "cell_type": "code",
   "execution_count": 79,
   "metadata": {},
   "outputs": [
    {
     "data": {
      "text/plain": [
       "0.9732916265640038"
      ]
     },
     "execution_count": 79,
     "metadata": {},
     "output_type": "execute_result"
    }
   ],
   "source": [
    "# calculate accuracy score for training data\n",
    "nonsmote_model.score(X_train, y_train)"
   ]
  },
  {
   "cell_type": "code",
   "execution_count": 80,
   "metadata": {},
   "outputs": [
    {
     "data": {
      "text/plain": [
       "0.9719390056843815"
      ]
     },
     "execution_count": 80,
     "metadata": {},
     "output_type": "execute_result"
    }
   ],
   "source": [
    "# calculate accuracy score for training data\n",
    "nonsmote_model.score(X_test,y_test)"
   ]
  },
  {
   "cell_type": "markdown",
   "metadata": {},
   "source": [
    "#### Create confusion matrix"
   ]
  },
  {
   "cell_type": "code",
   "execution_count": 81,
   "metadata": {},
   "outputs": [
    {
     "data": {
      "text/plain": [
       "array([[10379,    62],\n",
       "       [  249,   393]])"
      ]
     },
     "execution_count": 81,
     "metadata": {},
     "output_type": "execute_result"
    }
   ],
   "source": [
    "cf = confusion_matrix(y_test, nonsmote_ypred)\n",
    "cf"
   ]
  },
  {
   "cell_type": "code",
   "execution_count": 82,
   "metadata": {},
   "outputs": [
    {
     "name": "stdout",
     "output_type": "stream",
     "text": [
      "              precision    recall  f1-score   support\n",
      "\n",
      "           0       0.98      0.99      0.99     10441\n",
      "           1       0.86      0.61      0.72       642\n",
      "\n",
      "    accuracy                           0.97     11083\n",
      "   macro avg       0.92      0.80      0.85     11083\n",
      "weighted avg       0.97      0.97      0.97     11083\n",
      "\n"
     ]
    }
   ],
   "source": [
    "# create a classification report\n",
    "print(classification_report(y_test, nonsmote_ypred))"
   ]
  },
  {
   "cell_type": "code",
   "execution_count": 83,
   "metadata": {},
   "outputs": [
    {
     "data": {
      "image/png": "[encoded data removed]",
      "text/plain": [
       "<Figure size 432x288 with 2 Axes>"
      ]
     },
     "metadata": {},
     "output_type": "display_data"
    }
   ],
   "source": [
    "# plot confusion matrix\n",
    "\n",
    "plt.imshow(cf,  cmap=plt.cm.Blues) \n",
    "\n",
    "# add titles \n",
    "plt.title('Confusion Matrix')\n",
    "plt.ylabel('True label')\n",
    "plt.xlabel('Predicted label')\n",
    "\n",
    "# scale axis'\n",
    "class_names = set(y) \n",
    "tick_marks = np.arange(len(class_names))\n",
    "plt.xticks(tick_marks, class_names, rotation=45)\n",
    "plt.yticks(tick_marks, class_names)\n",
    "\n",
    "\n",
    "thresh = cf.max() / 2. \n",
    "\n",
    "for i, j in itertools.product(range(cf.shape[0]), range(cf.shape[1])):\n",
    "        plt.text(j, i, cf[i, j],\n",
    "                 horizontalalignment='center',\n",
    "                 color='white' if cf[i, j] > thresh else 'black')\n",
    "\n",
    "plt.colorbar()\n",
    "plt.show()"
   ]
  },
  {
   "cell_type": "markdown",
   "metadata": {},
   "source": [
    "#### Plotting Model Performance"
   ]
  },
  {
   "cell_type": "code",
   "execution_count": 84,
   "metadata": {},
   "outputs": [
    {
     "data": {
      "image/png": "[encoded data removed]",
      "text/plain": [
       "<Figure size 504x360 with 1 Axes>"
      ]
     },
     "metadata": {},
     "output_type": "display_data"
    }
   ],
   "source": [
    "plt.figure(figsize=(7, 5))\n",
    "plt.scatter(y_test, nonsmote_ypred)\n",
    "plt.plot([0, 1.5], [0, 1.5], '--k')\n",
    "plt.axis('tight')\n",
    "plt.title('Terry Stops Model Performance - Imbalanced Data')\n",
    "plt.xlabel('Actual Arrests')\n",
    "plt.ylabel('Predicted Arrests')\n",
    "plt.tight_layout()"
   ]
  },
  {
   "cell_type": "markdown",
   "metadata": {},
   "source": [
    "#### Plot ROC Curve for testing and training data"
   ]
  },
  {
   "cell_type": "code",
   "execution_count": 85,
   "metadata": {},
   "outputs": [
    {
     "name": "stdout",
     "output_type": "stream",
     "text": [
      "Testing AUC: 0.9695658232089466\n"
     ]
    },
    {
     "data": {
      "image/png": "[encoded data removed]",
      "text/plain": [
       "<Figure size 720x576 with 1 Axes>"
      ]
     },
     "metadata": {},
     "output_type": "display_data"
    }
   ],
   "source": [
    "sns.set_style('darkgrid', {'axes.facecolor': '0.9'})\n",
    "\n",
    "plt.figure(figsize=(10, 8))\n",
    "lw = 2\n",
    "plt.plot(f_p_r, t_p_r, color='darkorange',\n",
    "         lw=lw, label='Testing ROC curve')\n",
    "plt.plot(fpr, tpr, color='blue',\n",
    "         lw=lw, label='Training ROC curve')\n",
    "fpr, tpr, thresh = roc_curve(y_train_resampled, y_score)\n",
    "rocauc = auc(fpr, tpr)\n",
    "plt.plot([0, 1], [0, 1], color='navy', lw=lw, linestyle='--')\n",
    "plt.xlim([0.0, 1.0])\n",
    "plt.ylim([0.0, 1.05])\n",
    "plt.yticks([i/20.0 for i in range(21)])\n",
    "plt.xticks([i/20.0 for i in range(21)])\n",
    "plt.xlabel('False Positive Rate')\n",
    "plt.ylabel('True Positive Rate')\n",
    "plt.title('Receiver operating characteristic (ROC) Curve for Testing Set')\n",
    "plt.legend(loc='lower right')\n",
    "print('Testing AUC: {}'.format(auc(f_p_r, t_p_r)))\n",
    "plt.show()"
   ]
  }
 ],
 "metadata": {
  "kernelspec": {
   "display_name": "learn-env",
   "language": "python",
   "name": "learn-env"
  },
  "language_info": {
   "codemirror_mode": {
    "name": "ipython",
    "version": 3
   },
   "file_extension": ".py",
   "mimetype": "text/x-python",
   "name": "python",
   "nbconvert_exporter": "python",
   "pygments_lexer": "ipython3",
   "version": "3.6.9"
  },
  "toc": {
   "base_numbering": 1,
   "nav_menu": {},
   "number_sections": false,
   "sideBar": true,
   "skip_h1_title": false,
   "title_cell": "Table of Contents",
   "title_sidebar": "Contents",
   "toc_cell": false,
   "toc_position": {},
   "toc_section_display": true,
   "toc_window_display": false
  },
  "varInspector": {
   "cols": {
    "lenName": 16,
    "lenType": 16,
    "lenVar": 40
   },
   "kernels_config": {
    "python": {
     "delete_cmd_postfix": "",
     "delete_cmd_prefix": "del ",
     "library": "var_list.py",
     "varRefreshCmd": "print(var_dic_list())"
    },
    "r": {
     "delete_cmd_postfix": ") ",
     "delete_cmd_prefix": "rm(",
     "library": "var_list.r",
     "varRefreshCmd": "cat(var_dic_list()) "
    }
   },
   "types_to_exclude": [
    "module",
    "function",
    "builtin_function_or_method",
    "instance",
    "_Feature"
   ],
   "window_display": false
  }
 },
 "nbformat": 4,
 "nbformat_minor": 4
}
